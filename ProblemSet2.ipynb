{
  "nbformat": 4,
  "nbformat_minor": 0,
  "metadata": {
    "kernelspec": {
      "display_name": "Python 3",
      "language": "python",
      "name": "python3"
    },
    "language_info": {
      "codemirror_mode": {
        "name": "ipython",
        "version": 3
      },
      "file_extension": ".py",
      "mimetype": "text/x-python",
      "name": "python",
      "nbconvert_exporter": "python",
      "pygments_lexer": "ipython3",
      "version": "3.7.3"
    },
    "colab": {
      "name": "ProblemSet2.ipynb",
      "provenance": [],
      "collapsed_sections": [],
      "include_colab_link": true
    }
  },
  "cells": [
    {
      "cell_type": "markdown",
      "metadata": {
        "id": "view-in-github",
        "colab_type": "text"
      },
      "source": [
        "<a href=\"https://colab.research.google.com/github/liuxiaoxuan97/data-science-hw-/blob/master/ProblemSet2.ipynb\" target=\"_parent\"><img src=\"https://colab.research.google.com/assets/colab-badge.svg\" alt=\"Open In Colab\"/></a>"
      ]
    },
    {
      "cell_type": "markdown",
      "metadata": {
        "id": "fb9DikpKjlcS",
        "colab_type": "text"
      },
      "source": [
        "# Homework #2: Convolutional Neural Networks\n",
        "Due Friday, May 15th by 11:59pm\n"
      ]
    },
    {
      "cell_type": "markdown",
      "metadata": {
        "id": "BjKfLJ6FjlcY",
        "colab_type": "text"
      },
      "source": [
        "## Question 1\n",
        "(a) You have an input volume that is 15x15x8 and pad it using *p = 2*. What is the dimension of the resulting volume?\n",
        "\n",
        "\n"
      ]
    },
    {
      "cell_type": "markdown",
      "metadata": {
        "id": "CEPk_5IU8PtX",
        "colab_type": "text"
      },
      "source": [
        "Ans: $19*19*8$"
      ]
    },
    {
      "cell_type": "markdown",
      "metadata": {
        "id": "9PcQCat9jlcZ",
        "colab_type": "text"
      },
      "source": [
        "(b) You have an input volume that is 32x32x16 and apply max pooling with a stride of 2 and a filter of size of 2x2. What is the output volume?\n",
        "\n"
      ]
    },
    {
      "cell_type": "markdown",
      "metadata": {
        "id": "3GQO6Sam8bm5",
        "colab_type": "text"
      },
      "source": [
        "Ans: $\\frac{n+2p-f}{s}+1, \\frac{m+2p-f}{s}+1$,  $(32-2)/2+1=16$\n",
        " so the output volume= $16*16*16$"
      ]
    },
    {
      "cell_type": "markdown",
      "metadata": {
        "id": "_70X-fDcjlcb",
        "colab_type": "text"
      },
      "source": [
        "(c) You have an input volume that is 63x63x16 and convolve it with 32 filters that are each 7x7, and a stride of 1. You want to use a \"same\" convolution. What is the padding *p*?\n",
        "\n"
      ]
    },
    {
      "cell_type": "markdown",
      "metadata": {
        "id": "ZRaa4x0F_FP-",
        "colab_type": "text"
      },
      "source": [
        "Ans: Same padding with stride =1, then the equation is $n,m=n+2p-f+1,m+2p-f+1$, where $ n=m=64, f=7$ , so $2p=6, p=3$"
      ]
    },
    {
      "cell_type": "markdown",
      "metadata": {
        "id": "Ri6GQ3Hojlcc",
        "colab_type": "text"
      },
      "source": [
        "(d) You have an input volume that is 63x63x16 and convolve it with 32 filters that are each 7x7, using a stride of 2 and no padding. What is the output volume?\n",
        " Ans: output height, width= $\\frac{n+2p-f}{s}+1, \\frac{m+2p-f}{s}+1$ where $m=n=63, s=2, f=7$ output size = $29*29*32$.\n"
      ]
    },
    {
      "cell_type": "markdown",
      "metadata": {
        "id": "FOsbEj2Ajlcd",
        "colab_type": "text"
      },
      "source": [
        "## Question 2: Classification of Chest X-rays\n",
        "Chest X-ray exams are one of the most frequent and cost-effective medical imaging examinations available. However, clinical diagnosis of a chest X-ray can be challenging and sometimes more difficult than diagnosis via chest CT imaging. The lack of large publicly available datasets with annotations means it is still very difficult, if not impossible, to achieve clinically relevant computer-aided detection and diagnosis (CAD) in real world medical sites with chest X-rays. One major hurdle in creating large X-ray image datasets is the lack resources for labeling so many images. Prior to the release of this dataset, Openi was the largest publicly available source of chest X-ray images with 4,143 images available.\n",
        "\n",
        "This [NIH Chest X-ray Dataset](https://www.kaggle.com/nih-chest-xrays/data) is comprised of 112,120 X-ray images with disease labels from 30,805 unique patients. To create these labels, the authors used Natural Language Processing to text-mine disease classifications from the associated radiological reports. The labels are expected to be >90% accurate and suitable for weakly-supervised learning. The original radiology reports are not publicly available but you can find more details on the labeling process in this Open Access paper: \"ChestX-ray8: Hospital-scale Chest X-ray Database and Benchmarks on Weakly-Supervised Classification and Localization of Common Thorax Diseases.\" (Wang et al.)\n",
        "\n",
        "Here we will use a subset of the data, rather than all 112,120 images. The images have been split into training, validation and test sets, each with folders containing the images for a particular diagnosis (class). The full data set contains images with single labels and multi-lables, with a total of 15 unique diagnoses. Our subsample contains only single label images with a total of 7 diagnoses: atelectasis, effusion, infiltration, mass, nodule, none (no finding), and pneumothorax. Your task is to classify the images correctly by building multiple CNNs and comparing their performance.\n",
        "\n",
        "Here are what a few of the X-rays look like:\n",
        "\n",
        "![xrays](https://drive.google.com/uc?id=1m42zYcI1YWDn9TuBlA5vukN7rqaILuXF)\n",
        "\n",
        "### Load the data\n",
        "\n",
        "The data are available in Google Drive [here](https://drive.google.com/open?id=1Q9DGe2-WcN1T5ToDLr4AMk-UAFedb309) or in Dropbox [here](https://www.dropbox.com/sh/6rstxss79669361/AABXuOWEA75MtWWTVeER4UeKa?dl=0). **Please note that if you are accessing the Google Drive folder that there are 2 xray datasets: `xrays` and `xrays-small`. You will use the `xrays` dataset for this assignment.**\n",
        "\n",
        "Load the data and print the number of training, validation and test set examples there are of each class. Be sure to change the directory path provided below to your own data path."
      ]
    },
    {
      "cell_type": "code",
      "metadata": {
        "id": "ucx1xmKo7NGO",
        "colab_type": "code",
        "outputId": "f3ced23c-3026-4b20-f332-88af3cd20d9e",
        "colab": {
          "base_uri": "https://localhost:8080/",
          "height": 34
        }
      },
      "source": [
        "import numpy as np\n",
        "from sklearn.decomposition import PCA\n",
        "import matplotlib\n",
        "import matplotlib.pyplot as plt\n",
        "\n",
        "# Import the TF V2 through this magic command\n",
        "%tensorflow_version 2.x\n",
        "\n",
        "import tensorflow as tf\n",
        "import tensorflow.keras\n",
        "from tensorflow.keras import backend as K\n",
        "from tensorflow.keras import datasets, layers, models\n",
        "\n",
        "# Check the Version of the Tensor Flow. It should be the version 2\n",
        "print(tf.__version__)\n",
        "tf.keras.backend.clear_session()\n",
        "import sys\n",
        "if not sys.warnoptions:\n",
        "    import warnings\n",
        "    warnings.simplefilter(\"ignore\")\n",
        "\n",
        "import numpy as np\n",
        "import os, shutil\n",
        "#import cv"
      ],
      "execution_count": 13,
      "outputs": [
        {
          "output_type": "stream",
          "text": [
            "2.2.0-rc3\n"
          ],
          "name": "stdout"
        }
      ]
    },
    {
      "cell_type": "code",
      "metadata": {
        "id": "p8dUK1qLk1oK",
        "colab_type": "code",
        "outputId": "646883a0-454f-4c79-b1a8-e73de7807438",
        "colab": {
          "base_uri": "https://localhost:8080/",
          "height": 122
        }
      },
      "source": [
        "from google.colab import drive\n",
        "drive.mount('/content/drive')"
      ],
      "execution_count": 2,
      "outputs": [
        {
          "output_type": "stream",
          "text": [
            "Go to this URL in a browser: https://accounts.google.com/o/oauth2/auth?client_id=947318989803-6bn6qk8qdgf4n4g3pfee6491hc0brc4i.apps.googleusercontent.com&redirect_uri=urn%3aietf%3awg%3aoauth%3a2.0%3aoob&response_type=code&scope=email%20https%3a%2f%2fwww.googleapis.com%2fauth%2fdocs.test%20https%3a%2f%2fwww.googleapis.com%2fauth%2fdrive%20https%3a%2f%2fwww.googleapis.com%2fauth%2fdrive.photos.readonly%20https%3a%2f%2fwww.googleapis.com%2fauth%2fpeopleapi.readonly\n",
            "\n",
            "Enter your authorization code:\n",
            "··········\n",
            "Mounted at /content/drive\n"
          ],
          "name": "stdout"
        }
      ]
    },
    {
      "cell_type": "code",
      "metadata": {
        "id": "UwSZ6NFNghtB",
        "colab_type": "code",
        "outputId": "86803667-9bea-4d10-842a-48acc666c88b",
        "colab": {
          "base_uri": "https://localhost:8080/",
          "height": 34
        }
      },
      "source": [
        "import os\n",
        "os.getcwd()"
      ],
      "execution_count": 3,
      "outputs": [
        {
          "output_type": "execute_result",
          "data": {
            "text/plain": [
              "'/content'"
            ]
          },
          "metadata": {
            "tags": []
          },
          "execution_count": 3
        }
      ]
    },
    {
      "cell_type": "code",
      "metadata": {
        "id": "x-VOpowHk2qc",
        "colab_type": "code",
        "colab": {}
      },
      "source": [
        "# Define directories of where the training, validation and test sets reside\n",
        "# Heather's: \n",
        "base_dir = 'drive/My Drive/xxray/xrays/'\n",
        "# This is the path to where my files are - your path will be different, something like this:\n",
        "# base_dir = 'drive/My Drive/Data/xrays/'"
      ],
      "execution_count": 0,
      "outputs": []
    },
    {
      "cell_type": "code",
      "metadata": {
        "id": "gxssO8zYk3Po",
        "colab_type": "code",
        "colab": {}
      },
      "source": [
        "train_dir = os.path.join(base_dir, 'train_dir')\n",
        "validation_dir = os.path.join(base_dir, 'validation_dir')\n",
        "test_dir = os.path.join(base_dir, 'test_dir')\n",
        "\n",
        "# Training Data\n",
        "train_atelectasis  = os.path.join(train_dir, 'atelectasis')\n",
        "train_effusion     = os.path.join(train_dir, 'effusion')\n",
        "train_infiltration = os.path.join(train_dir, 'infiltration')\n",
        "train_mass         = os.path.join(train_dir, 'mass')\n",
        "train_nodule       = os.path.join(train_dir, 'nodule')\n",
        "train_none         = os.path.join(train_dir, 'none')\n",
        "train_pneumothorax = os.path.join(train_dir, 'pneumothorax')\n",
        "\n",
        "# Validation Data\n",
        "val_atelectasis  = os.path.join(validation_dir, 'atelectasis')\n",
        "val_effusion     = os.path.join(validation_dir, 'effusion')\n",
        "val_infiltration = os.path.join(validation_dir, 'infiltration')\n",
        "val_mass         = os.path.join(validation_dir, 'mass')\n",
        "val_nodule       = os.path.join(validation_dir, 'nodule')\n",
        "val_none         = os.path.join(validation_dir, 'none')\n",
        "val_pneumothorax = os.path.join(validation_dir, 'pneumothorax')\n",
        "\n",
        "# Test Data\n",
        "test_atelectasis  = os.path.join(test_dir, 'atelectasis')\n",
        "test_effusion     = os.path.join(test_dir, 'effusion')\n",
        "test_infiltration = os.path.join(test_dir, 'infiltration')\n",
        "test_mass         = os.path.join(test_dir, 'mass')\n",
        "test_nodule       = os.path.join(test_dir, 'nodule')\n",
        "test_none         = os.path.join(test_dir, 'none')\n",
        "test_pneumothorax = os.path.join(test_dir, 'pneumothorax')"
      ],
      "execution_count": 0,
      "outputs": []
    },
    {
      "cell_type": "markdown",
      "metadata": {
        "id": "FaUgzJ0vsY_F",
        "colab_type": "text"
      },
      "source": [
        "Use the code below to check how many images are available for each class for the 3 sets (training, validation and testing) of images."
      ]
    },
    {
      "cell_type": "code",
      "metadata": {
        "id": "GqKtnQJmjlco",
        "colab_type": "code",
        "outputId": "ff8d8d70-1e93-463f-987a-32ac99e39533",
        "colab": {
          "base_uri": "https://localhost:8080/",
          "height": 136
        }
      },
      "source": [
        "print('Total training atelectasisat images:', len(os.listdir(train_atelectasis)))\n",
        "print('Total training effusion images:', len(os.listdir(train_effusion)))\n",
        "print('Total training infiltration images:', len(os.listdir(train_infiltration)))\n",
        "print('Total training mass images:', len(os.listdir(train_mass)))\n",
        "print('Total training nodule images:', len(os.listdir(train_nodule)))\n",
        "print('Total training no finding images:', len(os.listdir(train_none)))\n",
        "print('Total training pneumothorax images:', len(os.listdir(train_pneumothorax)))"
      ],
      "execution_count": 6,
      "outputs": [
        {
          "output_type": "stream",
          "text": [
            "Total training atelectasisat images: 400\n",
            "Total training effusion images: 400\n",
            "Total training infiltration images: 400\n",
            "Total training mass images: 200\n",
            "Total training nodule images: 300\n",
            "Total training no finding images: 400\n",
            "Total training pneumothorax images: 300\n"
          ],
          "name": "stdout"
        }
      ]
    },
    {
      "cell_type": "code",
      "metadata": {
        "id": "aWv5V7rwjlcs",
        "colab_type": "code",
        "outputId": "9201fe66-c85f-484f-b80f-0bd79ba6e68e",
        "colab": {
          "base_uri": "https://localhost:8080/",
          "height": 136
        }
      },
      "source": [
        "print('Total validation atelectasisat images:', len(os.listdir(val_atelectasis)))\n",
        "print('Total validation effusion images:', len(os.listdir(val_effusion)))\n",
        "print('Total validation infiltration images:', len(os.listdir(val_infiltration)))\n",
        "print('Total validation mass images:', len(os.listdir(val_mass)))\n",
        "print('Total validation nodule images:', len(os.listdir(val_nodule)))\n",
        "print('Total validation no finding images:', len(os.listdir(val_none)))\n",
        "print('Total validation pneumothorax images:', len(os.listdir(val_pneumothorax)))"
      ],
      "execution_count": 7,
      "outputs": [
        {
          "output_type": "stream",
          "text": [
            "Total validation atelectasisat images: 100\n",
            "Total validation effusion images: 100\n",
            "Total validation infiltration images: 100\n",
            "Total validation mass images: 55\n",
            "Total validation nodule images: 70\n",
            "Total validation no finding images: 100\n",
            "Total validation pneumothorax images: 70\n"
          ],
          "name": "stdout"
        }
      ]
    },
    {
      "cell_type": "code",
      "metadata": {
        "id": "OLhVm9Wvjlcv",
        "colab_type": "code",
        "outputId": "8c161ff0-673c-40e1-d2b4-992f2ccf657a",
        "colab": {
          "base_uri": "https://localhost:8080/",
          "height": 138
        }
      },
      "source": [
        "print('Total test atelectasisat images:', len(os.listdir(test_atelectasis)))\n",
        "print('Total test effusion images:', len(os.listdir(test_effusion)))\n",
        "print('Total test infiltration images:', len(os.listdir(test_infiltration)))\n",
        "print('Total test mass images:', len(os.listdir(test_mass)))\n",
        "print('Total test nodule images:', len(os.listdir(test_nodule)))\n",
        "print('Total test no finding images:', len(os.listdir(test_none)))\n",
        "print('Total test pneumothorax images:', len(os.listdir(test_pneumothorax)))"
      ],
      "execution_count": 0,
      "outputs": [
        {
          "output_type": "stream",
          "text": [
            "Total test atelectasisat images: 100\n",
            "Total test effusion images: 100\n",
            "Total test infiltration images: 100\n",
            "Total test mass images: 55\n",
            "Total test nodule images: 70\n",
            "Total test no finding images: 100\n",
            "Total test pneumothorax images: 70\n"
          ],
          "name": "stdout"
        }
      ]
    },
    {
      "cell_type": "markdown",
      "metadata": {
        "id": "rENCt559jlcz",
        "colab_type": "text"
      },
      "source": [
        "### A. Build a CNN from scratch\n",
        "Build a shallow (2-4 convolution layers) CNN. You are free to choose any values you wish for the filter size(s), pooling window size(s), and activation function(s). Please use an input shape of 64 x 64 and note that while these images look like greyscale images, they are in fact color images. Include a dense layer on top along with an appropriate output layer (number of neurons and activation function). Be sure to also include the `model.compile` function with an appropriate choice of loss function and performance metric."
      ]
    },
    {
      "cell_type": "code",
      "metadata": {
        "id": "xWyaO3dXjlc1",
        "colab_type": "code",
        "colab": {}
      },
      "source": [
        "# Your code here\n",
        "model = tf.keras.models.Sequential([\n",
        "  tf.keras.layers.Conv2D(32, (3, 3), activation='relu', input_shape = (64, 64, 3)),\n",
        "  tf.keras.layers.MaxPooling2D((2, 2)),\n",
        "\n",
        "  tf.keras.layers.Conv2D(64, (3, 3), activation='relu'),\n",
        "  tf.keras.layers.MaxPooling2D((2, 2)),\n",
        "\n",
        "  tf.keras.layers.Conv2D(64, (3, 3), activation='relu'),\n",
        "  tf.keras.layers.MaxPooling2D((2, 2)),\n",
        "  tf.keras.layers.Dropout(0.5),\n",
        "\n",
        "  tf.keras.layers.Flatten(),\n",
        "\n",
        "  tf.keras.layers.Dense(128, activation='relu'),\n",
        "\n",
        "  tf.keras.layers.Dense(7, activation = 'softmax')\n",
        "])"
      ],
      "execution_count": 0,
      "outputs": []
    },
    {
      "cell_type": "code",
      "metadata": {
        "id": "ze2dnHYTiL_X",
        "colab_type": "code",
        "colab": {
          "base_uri": "https://localhost:8080/",
          "height": 493
        },
        "outputId": "ab75d480-f41b-4e6d-a0ed-fd9141bb4d3e"
      },
      "source": [
        "model.summary()"
      ],
      "execution_count": 20,
      "outputs": [
        {
          "output_type": "stream",
          "text": [
            "Model: \"sequential_2\"\n",
            "_________________________________________________________________\n",
            "Layer (type)                 Output Shape              Param #   \n",
            "=================================================================\n",
            "conv2d_6 (Conv2D)            (None, 62, 62, 32)        896       \n",
            "_________________________________________________________________\n",
            "max_pooling2d_4 (MaxPooling2 (None, 31, 31, 32)        0         \n",
            "_________________________________________________________________\n",
            "conv2d_7 (Conv2D)            (None, 29, 29, 64)        18496     \n",
            "_________________________________________________________________\n",
            "max_pooling2d_5 (MaxPooling2 (None, 14, 14, 64)        0         \n",
            "_________________________________________________________________\n",
            "conv2d_8 (Conv2D)            (None, 12, 12, 64)        36928     \n",
            "_________________________________________________________________\n",
            "max_pooling2d_6 (MaxPooling2 (None, 6, 6, 64)          0         \n",
            "_________________________________________________________________\n",
            "dropout_1 (Dropout)          (None, 6, 6, 64)          0         \n",
            "_________________________________________________________________\n",
            "flatten_2 (Flatten)          (None, 2304)              0         \n",
            "_________________________________________________________________\n",
            "dense_4 (Dense)              (None, 128)               295040    \n",
            "_________________________________________________________________\n",
            "dense_5 (Dense)              (None, 7)                 903       \n",
            "=================================================================\n",
            "Total params: 352,263\n",
            "Trainable params: 352,263\n",
            "Non-trainable params: 0\n",
            "_________________________________________________________________\n"
          ],
          "name": "stdout"
        }
      ]
    },
    {
      "cell_type": "code",
      "metadata": {
        "id": "hcUP608kiQk9",
        "colab_type": "code",
        "colab": {}
      },
      "source": [
        "model.compile(loss='categorical_crossentropy',optimizer=tf.keras.optimizers.RMSprop(),\n",
        "              metrics=['accuracy'])\n"
      ],
      "execution_count": 0,
      "outputs": []
    },
    {
      "cell_type": "code",
      "metadata": {
        "id": "IOJgo1jOjGqN",
        "colab_type": "code",
        "colab": {}
      },
      "source": [
        ""
      ],
      "execution_count": 0,
      "outputs": []
    },
    {
      "cell_type": "markdown",
      "metadata": {
        "id": "ITpc9RYQjlc4",
        "colab_type": "text"
      },
      "source": [
        "#### Define the image generator\n",
        "Using the `ImageDataGenerator` function, create `train_datagen` and `test_datagen` generators that rescale the images appropriately. Then define a training set generator and validation set generator using the generators `train_datagen` and `test_datagen` and the `.flow_from_directory` function. Specify the `target_size` (it should match the input size above), set the `batch_size` to 20 and choose an appropriate `class_mode`."
      ]
    },
    {
      "cell_type": "code",
      "metadata": {
        "id": "-2cToJ8Ljlc5",
        "colab_type": "code",
        "outputId": "fef3bc21-9625-4a16-ca3d-be9812c6586e",
        "colab": {
          "base_uri": "https://localhost:8080/",
          "height": 51
        }
      },
      "source": [
        "# Your code here\n",
        "from keras.preprocessing.image import ImageDataGenerator\n",
        "import math\n",
        "train_datagen=ImageDataGenerator(rescale=1./255)\n",
        "test_datagen=ImageDataGenerator(rescale=1./255)\n",
        "batch_size=20\n",
        "train_generator=train_datagen.flow_from_directory(\n",
        "    train_dir,\n",
        "    target_size=(64,64),\n",
        "    batch_size=batch_size,\n",
        "    class_mode='categorical'\n",
        ")\n",
        "validation_generator=test_datagen.flow_from_directory(\n",
        "    validation_dir,\n",
        "    target_size=(64,64),\n",
        "    batch_size=batch_size,\n",
        "    class_mode='categorical'\n",
        ")"
      ],
      "execution_count": 22,
      "outputs": [
        {
          "output_type": "stream",
          "text": [
            "Found 2400 images belonging to 7 classes.\n",
            "Found 595 images belonging to 7 classes.\n"
          ],
          "name": "stdout"
        }
      ]
    },
    {
      "cell_type": "markdown",
      "metadata": {
        "id": "uQCN53NSjlc9",
        "colab_type": "text"
      },
      "source": [
        "Use this code chunck to view the shapes of one batch of your training images and labels."
      ]
    },
    {
      "cell_type": "code",
      "metadata": {
        "id": "J_9IIo_ajlc9",
        "colab_type": "code",
        "outputId": "e48cae5e-ecf7-4955-b503-68bc95d2f680",
        "colab": {
          "base_uri": "https://localhost:8080/",
          "height": 51
        }
      },
      "source": [
        "for data_batch, labels_batch in train_generator:\n",
        "    print('data batch shape:', data_batch.shape)\n",
        "    print('labels batch shape:', labels_batch.shape)\n",
        "    break"
      ],
      "execution_count": 23,
      "outputs": [
        {
          "output_type": "stream",
          "text": [
            "data batch shape: (20, 64, 64, 3)\n",
            "labels batch shape: (20, 7)\n"
          ],
          "name": "stdout"
        }
      ]
    },
    {
      "cell_type": "code",
      "metadata": {
        "id": "8UBr2GNpk8hM",
        "colab_type": "code",
        "colab": {}
      },
      "source": [
        "\n",
        "num_training_samples = math.ceil(2400/batch_size)\n",
        "num_validation_samples = math.ceil(595/batch_size)"
      ],
      "execution_count": 0,
      "outputs": []
    },
    {
      "cell_type": "markdown",
      "metadata": {
        "id": "LbN0vWB7jldB",
        "colab_type": "text"
      },
      "source": [
        "#### Compile your model\n",
        "Be sure to choose appropriate numbers for the `steps_per_epoch` and `validation_steps` parameters. If one of the numbers is not a multiple of the batch size, round up to the nearest integer. Run this model for 30 epochs. Be sure to save your trained model.\n",
        "\n",
        "**Note: the first epoch will take about 15 minutes to run. The rest of the epochs will only take about a minute each to run.**"
      ]
    },
    {
      "cell_type": "code",
      "metadata": {
        "id": "W1r9Z_CBjldB",
        "colab_type": "code",
        "colab": {
          "base_uri": "https://localhost:8080/",
          "height": 1000
        },
        "outputId": "16aa196f-df08-406b-f05f-6f845129a8a9"
      },
      "source": [
        "# Your code here\n",
        "history=model.fit(train_generator,steps_per_epoch = num_training_samples,\n",
        "                    epochs = 30,\n",
        "                    validation_data = validation_generator,\n",
        "                    validation_steps = num_validation_samples)"
      ],
      "execution_count": 25,
      "outputs": [
        {
          "output_type": "stream",
          "text": [
            "Epoch 1/30\n",
            "120/120 [==============================] - 880s 7s/step - loss: 1.9263 - accuracy: 0.1979 - val_loss: 1.8949 - val_accuracy: 0.2050\n",
            "Epoch 2/30\n",
            "120/120 [==============================] - 62s 519ms/step - loss: 1.8411 - accuracy: 0.2713 - val_loss: 1.8830 - val_accuracy: 0.2269\n",
            "Epoch 3/30\n",
            "120/120 [==============================] - 62s 519ms/step - loss: 1.7903 - accuracy: 0.2912 - val_loss: 1.9248 - val_accuracy: 0.2504\n",
            "Epoch 4/30\n",
            "120/120 [==============================] - 62s 519ms/step - loss: 1.7563 - accuracy: 0.3129 - val_loss: 1.9141 - val_accuracy: 0.2874\n",
            "Epoch 5/30\n",
            "120/120 [==============================] - 63s 525ms/step - loss: 1.7250 - accuracy: 0.3275 - val_loss: 1.8852 - val_accuracy: 0.2437\n",
            "Epoch 6/30\n",
            "120/120 [==============================] - 63s 524ms/step - loss: 1.6995 - accuracy: 0.3379 - val_loss: 1.9551 - val_accuracy: 0.2538\n",
            "Epoch 7/30\n",
            "120/120 [==============================] - 62s 518ms/step - loss: 1.6748 - accuracy: 0.3425 - val_loss: 1.9384 - val_accuracy: 0.2437\n",
            "Epoch 8/30\n",
            "120/120 [==============================] - 65s 538ms/step - loss: 1.6394 - accuracy: 0.3625 - val_loss: 1.9229 - val_accuracy: 0.2588\n",
            "Epoch 9/30\n",
            "120/120 [==============================] - 63s 522ms/step - loss: 1.6027 - accuracy: 0.3892 - val_loss: 1.9300 - val_accuracy: 0.2672\n",
            "Epoch 10/30\n",
            "120/120 [==============================] - 63s 529ms/step - loss: 1.5961 - accuracy: 0.4013 - val_loss: 2.0292 - val_accuracy: 0.2588\n",
            "Epoch 11/30\n",
            "120/120 [==============================] - 63s 525ms/step - loss: 1.5450 - accuracy: 0.4158 - val_loss: 1.9331 - val_accuracy: 0.2471\n",
            "Epoch 12/30\n",
            "120/120 [==============================] - 63s 526ms/step - loss: 1.5247 - accuracy: 0.4137 - val_loss: 2.0417 - val_accuracy: 0.2672\n",
            "Epoch 13/30\n",
            "120/120 [==============================] - 64s 531ms/step - loss: 1.4868 - accuracy: 0.4342 - val_loss: 2.1020 - val_accuracy: 0.2521\n",
            "Epoch 14/30\n",
            "120/120 [==============================] - 63s 525ms/step - loss: 1.4384 - accuracy: 0.4583 - val_loss: 2.0382 - val_accuracy: 0.2655\n",
            "Epoch 15/30\n",
            "120/120 [==============================] - 63s 527ms/step - loss: 1.3965 - accuracy: 0.4742 - val_loss: 2.0908 - val_accuracy: 0.2689\n",
            "Epoch 16/30\n",
            "120/120 [==============================] - 63s 525ms/step - loss: 1.3803 - accuracy: 0.4771 - val_loss: 2.0619 - val_accuracy: 0.2235\n",
            "Epoch 17/30\n",
            "120/120 [==============================] - 65s 543ms/step - loss: 1.3529 - accuracy: 0.4938 - val_loss: 2.1153 - val_accuracy: 0.2723\n",
            "Epoch 18/30\n",
            "120/120 [==============================] - 63s 526ms/step - loss: 1.3131 - accuracy: 0.5058 - val_loss: 2.2098 - val_accuracy: 0.2555\n",
            "Epoch 19/30\n",
            "120/120 [==============================] - 63s 523ms/step - loss: 1.2591 - accuracy: 0.5308 - val_loss: 2.2898 - val_accuracy: 0.2622\n",
            "Epoch 20/30\n",
            "120/120 [==============================] - 62s 519ms/step - loss: 1.2358 - accuracy: 0.5412 - val_loss: 2.3884 - val_accuracy: 0.2487\n",
            "Epoch 21/30\n",
            "120/120 [==============================] - 63s 521ms/step - loss: 1.1845 - accuracy: 0.5571 - val_loss: 2.4395 - val_accuracy: 0.2571\n",
            "Epoch 22/30\n",
            "120/120 [==============================] - 64s 535ms/step - loss: 1.1668 - accuracy: 0.5696 - val_loss: 2.4749 - val_accuracy: 0.2403\n",
            "Epoch 23/30\n",
            "120/120 [==============================] - 63s 526ms/step - loss: 1.1318 - accuracy: 0.5867 - val_loss: 2.3581 - val_accuracy: 0.2084\n",
            "Epoch 24/30\n",
            "120/120 [==============================] - 63s 524ms/step - loss: 1.0556 - accuracy: 0.6071 - val_loss: 2.4648 - val_accuracy: 0.2387\n",
            "Epoch 25/30\n",
            "120/120 [==============================] - 63s 522ms/step - loss: 1.0372 - accuracy: 0.6196 - val_loss: 2.5174 - val_accuracy: 0.2672\n",
            "Epoch 26/30\n",
            "120/120 [==============================] - 63s 523ms/step - loss: 0.9859 - accuracy: 0.6471 - val_loss: 2.5332 - val_accuracy: 0.2471\n",
            "Epoch 27/30\n",
            "120/120 [==============================] - 65s 545ms/step - loss: 0.9664 - accuracy: 0.6467 - val_loss: 2.6875 - val_accuracy: 0.2336\n",
            "Epoch 28/30\n",
            "120/120 [==============================] - 63s 524ms/step - loss: 0.9458 - accuracy: 0.6646 - val_loss: 2.5745 - val_accuracy: 0.2269\n",
            "Epoch 29/30\n",
            "120/120 [==============================] - 63s 523ms/step - loss: 0.8736 - accuracy: 0.6842 - val_loss: 2.7471 - val_accuracy: 0.2487\n",
            "Epoch 30/30\n",
            "120/120 [==============================] - 62s 518ms/step - loss: 0.8523 - accuracy: 0.6850 - val_loss: 2.6391 - val_accuracy: 0.2420\n"
          ],
          "name": "stdout"
        }
      ]
    },
    {
      "cell_type": "markdown",
      "metadata": {
        "id": "CEC2PLFV4yCD",
        "colab_type": "text"
      },
      "source": [
        "### Save your model\n",
        "Use the code below to save your model if you are using colab. If you are using another notebook platform just run `model.save('chest_1.h5')`."
      ]
    },
    {
      "cell_type": "code",
      "metadata": {
        "id": "tAcbBX8Z4s8T",
        "colab_type": "code",
        "colab": {}
      },
      "source": [
        "!pip install -U -q PyDrive\n",
        "from pydrive.auth import GoogleAuth\n",
        "from pydrive.drive import GoogleDrive \n",
        "from google.colab import auth \n",
        "from oauth2client.client import GoogleCredentials\n",
        "\n",
        "auth.authenticate_user()\n",
        "gauth = GoogleAuth()\n",
        "gauth.credentials = GoogleCredentials.get_application_default()\n",
        "drive = GoogleDrive(gauth)"
      ],
      "execution_count": 0,
      "outputs": []
    },
    {
      "cell_type": "code",
      "metadata": {
        "id": "AHt7sdsL4tDt",
        "colab_type": "code",
        "outputId": "22785b79-0b68-4ee5-fe83-ff3203133dba",
        "colab": {
          "base_uri": "https://localhost:8080/",
          "height": 34
        }
      },
      "source": [
        "model.save('chest_1.h5')\n",
        "model_file = drive.CreateFile({'chest_1' : 'chest_1.h5'})\n",
        "model_file.SetContentFile('chest_1.h5')\n",
        "model_file.Upload()\n",
        "drive.CreateFile({'id': model_file.get('id')})"
      ],
      "execution_count": 30,
      "outputs": [
        {
          "output_type": "execute_result",
          "data": {
            "text/plain": [
              "GoogleDriveFile({'id': '1V_olfF5oxtQu_Q9QmGx7w03Ghz7zZ10j'})"
            ]
          },
          "metadata": {
            "tags": []
          },
          "execution_count": 30
        }
      ]
    },
    {
      "cell_type": "markdown",
      "metadata": {
        "id": "KgYR6vPEjldM",
        "colab_type": "text"
      },
      "source": [
        "### Plot training and validation loss\n",
        "Plot the training and validation loss. Does the model seem to be overfitting?\n"
      ]
    },
    {
      "cell_type": "code",
      "metadata": {
        "id": "0MWUgNBwZG_u",
        "colab_type": "code",
        "colab": {
          "base_uri": "https://localhost:8080/",
          "height": 296
        },
        "outputId": "281956db-f3f7-47a8-a025-5a5c5156626a"
      },
      "source": [
        "# Your code here\n",
        "train_acc=history.history['accuracy']\n",
        "train_loss=history.history['loss']\n",
        "val_acc=history.history['val_accuracy']\n",
        "val_loss=history.history['val_loss']\n",
        "epochs=range(1,len(train_acc)+1)\n",
        "plt.plot(epochs,train_loss,label='Train loss')\n",
        "plt.plot(epochs, val_loss,label='Validation loss')\n",
        "plt.xlabel('Epochs')\n",
        "plt.ylabel('Loss')\n",
        "plt.legend()"
      ],
      "execution_count": 26,
      "outputs": [
        {
          "output_type": "execute_result",
          "data": {
            "text/plain": [
              "<matplotlib.legend.Legend at 0x7fd2e1480668>"
            ]
          },
          "metadata": {
            "tags": []
          },
          "execution_count": 26
        },
        {
          "output_type": "display_data",
          "data": {
            "image/png": "[encoded data removed]",
            "text/plain": [
              "<Figure size 432x288 with 1 Axes>"
            ]
          },
          "metadata": {
            "tags": [],
            "needs_background": "light"
          }
        }
      ]
    },
    {
      "cell_type": "code",
      "metadata": {
        "id": "6C3p2cijl-Fd",
        "colab_type": "code",
        "colab": {
          "base_uri": "https://localhost:8080/",
          "height": 297
        },
        "outputId": "91273ebd-1b77-4e65-ee26-bd42f96e3d6b"
      },
      "source": [
        "plt.plot(epochs,train_acc,label='Train Accuracy')\n",
        "plt.plot(epochs, val_acc,label='Validation Accuracy')\n",
        "plt.xlabel('Epochs')\n",
        "plt.ylabel('Accuracy')\n",
        "plt.legend()"
      ],
      "execution_count": 27,
      "outputs": [
        {
          "output_type": "execute_result",
          "data": {
            "text/plain": [
              "<matplotlib.legend.Legend at 0x7fd2e14c95f8>"
            ]
          },
          "metadata": {
            "tags": []
          },
          "execution_count": 27
        },
        {
          "output_type": "display_data",
          "data": {
            "image/png": "[encoded data removed]",
            "text/plain": [
              "<Figure size 432x288 with 1 Axes>"
            ]
          },
          "metadata": {
            "tags": [],
            "needs_background": "light"
          }
        }
      ]
    },
    {
      "cell_type": "markdown",
      "metadata": {
        "id": "qwDYmfcjjldQ",
        "colab_type": "text"
      },
      "source": [
        "### Test accuracy\n",
        "Calculate and report the test set accuracy using the code below."
      ]
    },
    {
      "cell_type": "code",
      "metadata": {
        "id": "bGHAgREwYahd",
        "colab_type": "code",
        "colab": {
          "base_uri": "https://localhost:8080/",
          "height": 357
        },
        "outputId": "95803a25-8c0c-4e59-b168-f88799fe84d6"
      },
      "source": [
        "# Your code here\n",
        "test_generator=test_datagen.flow_from_directory(\n",
        "    test_dir,\n",
        "    target_size=(64,64),\n",
        "    batch_size=batch_size,\n",
        "    class_mode='categorical'\n",
        ")\n",
        "model.evaluate_generator(test_generator)"
      ],
      "execution_count": 37,
      "outputs": [
        {
          "output_type": "stream",
          "text": [
            "Found 595 images belonging to 7 classes.\n"
          ],
          "name": "stdout"
        },
        {
          "output_type": "error",
          "ename": "KeyboardInterrupt",
          "evalue": "ignored",
          "traceback": [
            "\u001b[0;31m---------------------------------------------------------------------------\u001b[0m",
            "\u001b[0;31mKeyboardInterrupt\u001b[0m                         Traceback (most recent call last)",
            "\u001b[0;32m<ipython-input-37-4e235ae26bb0>\u001b[0m in \u001b[0;36m<module>\u001b[0;34m()\u001b[0m\n\u001b[1;32m      5\u001b[0m     \u001b[0mclass_mode\u001b[0m\u001b[0;34m=\u001b[0m\u001b[0;34m'categorical'\u001b[0m\u001b[0;34m\u001b[0m\u001b[0;34m\u001b[0m\u001b[0m\n\u001b[1;32m      6\u001b[0m )\n\u001b[0;32m----> 7\u001b[0;31m \u001b[0mmodel\u001b[0m\u001b[0;34m.\u001b[0m\u001b[0mevaluate_generator\u001b[0m\u001b[0;34m(\u001b[0m\u001b[0mtest_generator\u001b[0m\u001b[0;34m)\u001b[0m\u001b[0;34m\u001b[0m\u001b[0;34m\u001b[0m\u001b[0m\n\u001b[0m",
            "\u001b[0;32m/usr/local/lib/python3.6/dist-packages/tensorflow/python/util/deprecation.py\u001b[0m in \u001b[0;36mnew_func\u001b[0;34m(*args, **kwargs)\u001b[0m\n\u001b[1;32m    322\u001b[0m               \u001b[0;34m'in a future version'\u001b[0m \u001b[0;32mif\u001b[0m \u001b[0mdate\u001b[0m \u001b[0;32mis\u001b[0m \u001b[0;32mNone\u001b[0m \u001b[0;32melse\u001b[0m \u001b[0;34m(\u001b[0m\u001b[0;34m'after %s'\u001b[0m \u001b[0;34m%\u001b[0m \u001b[0mdate\u001b[0m\u001b[0;34m)\u001b[0m\u001b[0;34m,\u001b[0m\u001b[0;34m\u001b[0m\u001b[0;34m\u001b[0m\u001b[0m\n\u001b[1;32m    323\u001b[0m               instructions)\n\u001b[0;32m--> 324\u001b[0;31m       \u001b[0;32mreturn\u001b[0m \u001b[0mfunc\u001b[0m\u001b[0;34m(\u001b[0m\u001b[0;34m*\u001b[0m\u001b[0margs\u001b[0m\u001b[0;34m,\u001b[0m \u001b[0;34m**\u001b[0m\u001b[0mkwargs\u001b[0m\u001b[0;34m)\u001b[0m\u001b[0;34m\u001b[0m\u001b[0;34m\u001b[0m\u001b[0m\n\u001b[0m\u001b[1;32m    325\u001b[0m     return tf_decorator.make_decorator(\n\u001b[1;32m    326\u001b[0m         \u001b[0mfunc\u001b[0m\u001b[0;34m,\u001b[0m \u001b[0mnew_func\u001b[0m\u001b[0;34m,\u001b[0m \u001b[0;34m'deprecated'\u001b[0m\u001b[0;34m,\u001b[0m\u001b[0;34m\u001b[0m\u001b[0;34m\u001b[0m\u001b[0m\n",
            "\u001b[0;32m/usr/local/lib/python3.6/dist-packages/tensorflow/python/keras/engine/training.py\u001b[0m in \u001b[0;36mevaluate_generator\u001b[0;34m(self, generator, steps, callbacks, max_queue_size, workers, use_multiprocessing, verbose)\u001b[0m\n\u001b[1;32m   1508\u001b[0m         \u001b[0muse_multiprocessing\u001b[0m\u001b[0;34m=\u001b[0m\u001b[0muse_multiprocessing\u001b[0m\u001b[0;34m,\u001b[0m\u001b[0;34m\u001b[0m\u001b[0;34m\u001b[0m\u001b[0m\n\u001b[1;32m   1509\u001b[0m         \u001b[0mverbose\u001b[0m\u001b[0;34m=\u001b[0m\u001b[0mverbose\u001b[0m\u001b[0;34m,\u001b[0m\u001b[0;34m\u001b[0m\u001b[0;34m\u001b[0m\u001b[0m\n\u001b[0;32m-> 1510\u001b[0;31m         callbacks=callbacks)\n\u001b[0m\u001b[1;32m   1511\u001b[0m \u001b[0;34m\u001b[0m\u001b[0m\n\u001b[1;32m   1512\u001b[0m   @deprecation.deprecated(\n",
            "\u001b[0;32m/usr/local/lib/python3.6/dist-packages/tensorflow/python/keras/engine/training.py\u001b[0m in \u001b[0;36m_method_wrapper\u001b[0;34m(self, *args, **kwargs)\u001b[0m\n\u001b[1;32m     64\u001b[0m   \u001b[0;32mdef\u001b[0m \u001b[0m_method_wrapper\u001b[0m\u001b[0;34m(\u001b[0m\u001b[0mself\u001b[0m\u001b[0;34m,\u001b[0m \u001b[0;34m*\u001b[0m\u001b[0margs\u001b[0m\u001b[0;34m,\u001b[0m \u001b[0;34m**\u001b[0m\u001b[0mkwargs\u001b[0m\u001b[0;34m)\u001b[0m\u001b[0;34m:\u001b[0m\u001b[0;34m\u001b[0m\u001b[0;34m\u001b[0m\u001b[0m\n\u001b[1;32m     65\u001b[0m     \u001b[0;32mif\u001b[0m \u001b[0;32mnot\u001b[0m \u001b[0mself\u001b[0m\u001b[0;34m.\u001b[0m\u001b[0m_in_multi_worker_mode\u001b[0m\u001b[0;34m(\u001b[0m\u001b[0;34m)\u001b[0m\u001b[0;34m:\u001b[0m  \u001b[0;31m# pylint: disable=protected-access\u001b[0m\u001b[0;34m\u001b[0m\u001b[0;34m\u001b[0m\u001b[0m\n\u001b[0;32m---> 66\u001b[0;31m       \u001b[0;32mreturn\u001b[0m \u001b[0mmethod\u001b[0m\u001b[0;34m(\u001b[0m\u001b[0mself\u001b[0m\u001b[0;34m,\u001b[0m \u001b[0;34m*\u001b[0m\u001b[0margs\u001b[0m\u001b[0;34m,\u001b[0m \u001b[0;34m**\u001b[0m\u001b[0mkwargs\u001b[0m\u001b[0;34m)\u001b[0m\u001b[0;34m\u001b[0m\u001b[0;34m\u001b[0m\u001b[0m\n\u001b[0m\u001b[1;32m     67\u001b[0m \u001b[0;34m\u001b[0m\u001b[0m\n\u001b[1;32m     68\u001b[0m     \u001b[0;31m# Running inside `run_distribute_coordinator` already.\u001b[0m\u001b[0;34m\u001b[0m\u001b[0;34m\u001b[0m\u001b[0;34m\u001b[0m\u001b[0m\n",
            "\u001b[0;32m/usr/local/lib/python3.6/dist-packages/tensorflow/python/keras/engine/training.py\u001b[0m in \u001b[0;36mevaluate\u001b[0;34m(self, x, y, batch_size, verbose, sample_weight, steps, callbacks, max_queue_size, workers, use_multiprocessing, return_dict)\u001b[0m\n\u001b[1;32m   1082\u001b[0m                 step_num=step):\n\u001b[1;32m   1083\u001b[0m               \u001b[0mcallbacks\u001b[0m\u001b[0;34m.\u001b[0m\u001b[0mon_test_batch_begin\u001b[0m\u001b[0;34m(\u001b[0m\u001b[0mstep\u001b[0m\u001b[0;34m)\u001b[0m\u001b[0;34m\u001b[0m\u001b[0;34m\u001b[0m\u001b[0m\n\u001b[0;32m-> 1084\u001b[0;31m               \u001b[0mtmp_logs\u001b[0m \u001b[0;34m=\u001b[0m \u001b[0mtest_function\u001b[0m\u001b[0;34m(\u001b[0m\u001b[0miterator\u001b[0m\u001b[0;34m)\u001b[0m\u001b[0;34m\u001b[0m\u001b[0;34m\u001b[0m\u001b[0m\n\u001b[0m\u001b[1;32m   1085\u001b[0m               \u001b[0;31m# Catch OutOfRangeError for Datasets of unknown size.\u001b[0m\u001b[0;34m\u001b[0m\u001b[0;34m\u001b[0m\u001b[0;34m\u001b[0m\u001b[0m\n\u001b[1;32m   1086\u001b[0m               \u001b[0;31m# This blocks until the batch has finished executing.\u001b[0m\u001b[0;34m\u001b[0m\u001b[0;34m\u001b[0m\u001b[0;34m\u001b[0m\u001b[0m\n",
            "\u001b[0;32m/usr/local/lib/python3.6/dist-packages/tensorflow/python/eager/def_function.py\u001b[0m in \u001b[0;36m__call__\u001b[0;34m(self, *args, **kwds)\u001b[0m\n\u001b[1;32m    578\u001b[0m         \u001b[0mxla_context\u001b[0m\u001b[0;34m.\u001b[0m\u001b[0mExit\u001b[0m\u001b[0;34m(\u001b[0m\u001b[0;34m)\u001b[0m\u001b[0;34m\u001b[0m\u001b[0;34m\u001b[0m\u001b[0m\n\u001b[1;32m    579\u001b[0m     \u001b[0;32melse\u001b[0m\u001b[0;34m:\u001b[0m\u001b[0;34m\u001b[0m\u001b[0;34m\u001b[0m\u001b[0m\n\u001b[0;32m--> 580\u001b[0;31m       \u001b[0mresult\u001b[0m \u001b[0;34m=\u001b[0m \u001b[0mself\u001b[0m\u001b[0;34m.\u001b[0m\u001b[0m_call\u001b[0m\u001b[0;34m(\u001b[0m\u001b[0;34m*\u001b[0m\u001b[0margs\u001b[0m\u001b[0;34m,\u001b[0m \u001b[0;34m**\u001b[0m\u001b[0mkwds\u001b[0m\u001b[0;34m)\u001b[0m\u001b[0;34m\u001b[0m\u001b[0;34m\u001b[0m\u001b[0m\n\u001b[0m\u001b[1;32m    581\u001b[0m \u001b[0;34m\u001b[0m\u001b[0m\n\u001b[1;32m    582\u001b[0m     \u001b[0;32mif\u001b[0m \u001b[0mtracing_count\u001b[0m \u001b[0;34m==\u001b[0m \u001b[0mself\u001b[0m\u001b[0;34m.\u001b[0m\u001b[0m_get_tracing_count\u001b[0m\u001b[0;34m(\u001b[0m\u001b[0;34m)\u001b[0m\u001b[0;34m:\u001b[0m\u001b[0;34m\u001b[0m\u001b[0;34m\u001b[0m\u001b[0m\n",
            "\u001b[0;32m/usr/local/lib/python3.6/dist-packages/tensorflow/python/eager/def_function.py\u001b[0m in \u001b[0;36m_call\u001b[0;34m(self, *args, **kwds)\u001b[0m\n\u001b[1;32m    616\u001b[0m       \u001b[0;31m# In this case we have not created variables on the first call. So we can\u001b[0m\u001b[0;34m\u001b[0m\u001b[0;34m\u001b[0m\u001b[0;34m\u001b[0m\u001b[0m\n\u001b[1;32m    617\u001b[0m       \u001b[0;31m# run the first trace but we should fail if variables are created.\u001b[0m\u001b[0;34m\u001b[0m\u001b[0;34m\u001b[0m\u001b[0;34m\u001b[0m\u001b[0m\n\u001b[0;32m--> 618\u001b[0;31m       \u001b[0mresults\u001b[0m \u001b[0;34m=\u001b[0m \u001b[0mself\u001b[0m\u001b[0;34m.\u001b[0m\u001b[0m_stateful_fn\u001b[0m\u001b[0;34m(\u001b[0m\u001b[0;34m*\u001b[0m\u001b[0margs\u001b[0m\u001b[0;34m,\u001b[0m \u001b[0;34m**\u001b[0m\u001b[0mkwds\u001b[0m\u001b[0;34m)\u001b[0m\u001b[0;34m\u001b[0m\u001b[0;34m\u001b[0m\u001b[0m\n\u001b[0m\u001b[1;32m    619\u001b[0m       \u001b[0;32mif\u001b[0m \u001b[0mself\u001b[0m\u001b[0;34m.\u001b[0m\u001b[0m_created_variables\u001b[0m\u001b[0;34m:\u001b[0m\u001b[0;34m\u001b[0m\u001b[0;34m\u001b[0m\u001b[0m\n\u001b[1;32m    620\u001b[0m         raise ValueError(\"Creating variables on a non-first call to a function\"\n",
            "\u001b[0;32m/usr/local/lib/python3.6/dist-packages/tensorflow/python/eager/function.py\u001b[0m in \u001b[0;36m__call__\u001b[0;34m(self, *args, **kwargs)\u001b[0m\n\u001b[1;32m   2418\u001b[0m     \u001b[0;32mwith\u001b[0m \u001b[0mself\u001b[0m\u001b[0;34m.\u001b[0m\u001b[0m_lock\u001b[0m\u001b[0;34m:\u001b[0m\u001b[0;34m\u001b[0m\u001b[0;34m\u001b[0m\u001b[0m\n\u001b[1;32m   2419\u001b[0m       \u001b[0mgraph_function\u001b[0m\u001b[0;34m,\u001b[0m \u001b[0margs\u001b[0m\u001b[0;34m,\u001b[0m \u001b[0mkwargs\u001b[0m \u001b[0;34m=\u001b[0m \u001b[0mself\u001b[0m\u001b[0;34m.\u001b[0m\u001b[0m_maybe_define_function\u001b[0m\u001b[0;34m(\u001b[0m\u001b[0margs\u001b[0m\u001b[0;34m,\u001b[0m \u001b[0mkwargs\u001b[0m\u001b[0;34m)\u001b[0m\u001b[0;34m\u001b[0m\u001b[0;34m\u001b[0m\u001b[0m\n\u001b[0;32m-> 2420\u001b[0;31m     \u001b[0;32mreturn\u001b[0m \u001b[0mgraph_function\u001b[0m\u001b[0;34m.\u001b[0m\u001b[0m_filtered_call\u001b[0m\u001b[0;34m(\u001b[0m\u001b[0margs\u001b[0m\u001b[0;34m,\u001b[0m \u001b[0mkwargs\u001b[0m\u001b[0;34m)\u001b[0m  \u001b[0;31m# pylint: disable=protected-access\u001b[0m\u001b[0;34m\u001b[0m\u001b[0;34m\u001b[0m\u001b[0m\n\u001b[0m\u001b[1;32m   2421\u001b[0m \u001b[0;34m\u001b[0m\u001b[0m\n\u001b[1;32m   2422\u001b[0m   \u001b[0;34m@\u001b[0m\u001b[0mproperty\u001b[0m\u001b[0;34m\u001b[0m\u001b[0;34m\u001b[0m\u001b[0m\n",
            "\u001b[0;32m/usr/local/lib/python3.6/dist-packages/tensorflow/python/eager/function.py\u001b[0m in \u001b[0;36m_filtered_call\u001b[0;34m(self, args, kwargs)\u001b[0m\n\u001b[1;32m   1663\u001b[0m          if isinstance(t, (ops.Tensor,\n\u001b[1;32m   1664\u001b[0m                            resource_variable_ops.BaseResourceVariable))),\n\u001b[0;32m-> 1665\u001b[0;31m         self.captured_inputs)\n\u001b[0m\u001b[1;32m   1666\u001b[0m \u001b[0;34m\u001b[0m\u001b[0m\n\u001b[1;32m   1667\u001b[0m   \u001b[0;32mdef\u001b[0m \u001b[0m_call_flat\u001b[0m\u001b[0;34m(\u001b[0m\u001b[0mself\u001b[0m\u001b[0;34m,\u001b[0m \u001b[0margs\u001b[0m\u001b[0;34m,\u001b[0m \u001b[0mcaptured_inputs\u001b[0m\u001b[0;34m,\u001b[0m \u001b[0mcancellation_manager\u001b[0m\u001b[0;34m=\u001b[0m\u001b[0;32mNone\u001b[0m\u001b[0;34m)\u001b[0m\u001b[0;34m:\u001b[0m\u001b[0;34m\u001b[0m\u001b[0;34m\u001b[0m\u001b[0m\n",
            "\u001b[0;32m/usr/local/lib/python3.6/dist-packages/tensorflow/python/eager/function.py\u001b[0m in \u001b[0;36m_call_flat\u001b[0;34m(self, args, captured_inputs, cancellation_manager)\u001b[0m\n\u001b[1;32m   1744\u001b[0m       \u001b[0;31m# No tape is watching; skip to running the function.\u001b[0m\u001b[0;34m\u001b[0m\u001b[0;34m\u001b[0m\u001b[0;34m\u001b[0m\u001b[0m\n\u001b[1;32m   1745\u001b[0m       return self._build_call_outputs(self._inference_function.call(\n\u001b[0;32m-> 1746\u001b[0;31m           ctx, args, cancellation_manager=cancellation_manager))\n\u001b[0m\u001b[1;32m   1747\u001b[0m     forward_backward = self._select_forward_and_backward_functions(\n\u001b[1;32m   1748\u001b[0m         \u001b[0margs\u001b[0m\u001b[0;34m,\u001b[0m\u001b[0;34m\u001b[0m\u001b[0;34m\u001b[0m\u001b[0m\n",
            "\u001b[0;32m/usr/local/lib/python3.6/dist-packages/tensorflow/python/eager/function.py\u001b[0m in \u001b[0;36mcall\u001b[0;34m(self, ctx, args, cancellation_manager)\u001b[0m\n\u001b[1;32m    596\u001b[0m               \u001b[0minputs\u001b[0m\u001b[0;34m=\u001b[0m\u001b[0margs\u001b[0m\u001b[0;34m,\u001b[0m\u001b[0;34m\u001b[0m\u001b[0;34m\u001b[0m\u001b[0m\n\u001b[1;32m    597\u001b[0m               \u001b[0mattrs\u001b[0m\u001b[0;34m=\u001b[0m\u001b[0mattrs\u001b[0m\u001b[0;34m,\u001b[0m\u001b[0;34m\u001b[0m\u001b[0;34m\u001b[0m\u001b[0m\n\u001b[0;32m--> 598\u001b[0;31m               ctx=ctx)\n\u001b[0m\u001b[1;32m    599\u001b[0m         \u001b[0;32melse\u001b[0m\u001b[0;34m:\u001b[0m\u001b[0;34m\u001b[0m\u001b[0;34m\u001b[0m\u001b[0m\n\u001b[1;32m    600\u001b[0m           outputs = execute.execute_with_cancellation(\n",
            "\u001b[0;32m/usr/local/lib/python3.6/dist-packages/tensorflow/python/eager/execute.py\u001b[0m in \u001b[0;36mquick_execute\u001b[0;34m(op_name, num_outputs, inputs, attrs, ctx, name)\u001b[0m\n\u001b[1;32m     58\u001b[0m     \u001b[0mctx\u001b[0m\u001b[0;34m.\u001b[0m\u001b[0mensure_initialized\u001b[0m\u001b[0;34m(\u001b[0m\u001b[0;34m)\u001b[0m\u001b[0;34m\u001b[0m\u001b[0;34m\u001b[0m\u001b[0m\n\u001b[1;32m     59\u001b[0m     tensors = pywrap_tfe.TFE_Py_Execute(ctx._handle, device_name, op_name,\n\u001b[0;32m---> 60\u001b[0;31m                                         inputs, attrs, num_outputs)\n\u001b[0m\u001b[1;32m     61\u001b[0m   \u001b[0;32mexcept\u001b[0m \u001b[0mcore\u001b[0m\u001b[0;34m.\u001b[0m\u001b[0m_NotOkStatusException\u001b[0m \u001b[0;32mas\u001b[0m \u001b[0me\u001b[0m\u001b[0;34m:\u001b[0m\u001b[0;34m\u001b[0m\u001b[0;34m\u001b[0m\u001b[0m\n\u001b[1;32m     62\u001b[0m     \u001b[0;32mif\u001b[0m \u001b[0mname\u001b[0m \u001b[0;32mis\u001b[0m \u001b[0;32mnot\u001b[0m \u001b[0;32mNone\u001b[0m\u001b[0;34m:\u001b[0m\u001b[0;34m\u001b[0m\u001b[0;34m\u001b[0m\u001b[0m\n",
            "\u001b[0;31mKeyboardInterrupt\u001b[0m: "
          ]
        }
      ]
    },
    {
      "cell_type": "markdown",
      "metadata": {
        "id": "2EM1ZMTyjldV",
        "colab_type": "text"
      },
      "source": [
        "### B. Using data augmentation\n",
        "Using the same architecture above, fit the CNN using data augmentation. You are free to choose the type of transformations made to the training images and the batch size (you should increase this for data augmentation). Be sure to include a `Dropout` layer before the first dense layer. Run this model for 30 epochs. Be sure to save your trained model. **Note that this should take about an hour to run.**"
      ]
    },
    {
      "cell_type": "code",
      "metadata": {
        "id": "1JAZU23tjldW",
        "colab_type": "code",
        "colab": {}
      },
      "source": [
        "# Your code here (train_datagen)\n",
        "train_dataaug=ImageDataGenerator(\n",
        "    rescale=1./255,\n",
        "    rotation_range=40,\n",
        "    width_shift_range=0.2,\n",
        "    height_shift_range=0.2,\n",
        "    shear_range=0.2,\n",
        "    zoom_range=0.2,\n",
        "    horizontal_flip=True,\n",
        "    fill_mode='nearest'\n",
        ")\n"
      ],
      "execution_count": 0,
      "outputs": []
    },
    {
      "cell_type": "markdown",
      "metadata": {
        "id": "X7Odbv2zCsLb",
        "colab_type": "text"
      },
      "source": [
        "Check out a few examples of augmented images with the code below."
      ]
    },
    {
      "cell_type": "code",
      "metadata": {
        "id": "nqK1BxSx-qcp",
        "colab_type": "code",
        "outputId": "66dea0be-cdf7-477b-fb41-053618357c18",
        "colab": {
          "base_uri": "https://localhost:8080/",
          "height": 1000
        }
      },
      "source": [
        "%matplotlib inline\n",
        "import matplotlib.pyplot as plt\n",
        "# This is module with image preprocessing utilities\n",
        "from keras.preprocessing import image\n",
        "\n",
        "fnames = [os.path.join(train_nodule, fname) for fname in os.listdir(train_nodule)]\n",
        "\n",
        "# We pick one image to \"augment\"\n",
        "img_path = fnames[3]\n",
        "\n",
        "# Read the image and resize it\n",
        "img = image.load_img(img_path, target_size=(64, 64))\n",
        "\n",
        "# Convert it to a Numpy array with shape (64, 64, 3)\n",
        "x = image.img_to_array(img)\n",
        "\n",
        "# Reshape it to (1, 64, 64, 3)\n",
        "x = x.reshape((1,) + x.shape)\n",
        "\n",
        "# The .flow() command below generates batches of randomly transformed images.\n",
        "# It will loop indefinitely, so we need to `break` the loop at some point!\n",
        "i = 0\n",
        "for batch in train_datagen.flow(x, batch_size=1):\n",
        "    plt.figure(i)\n",
        "    imgplot = plt.imshow(image.array_to_img(batch[0]))\n",
        "    i += 1\n",
        "    if i % 4 == 0:\n",
        "        break\n",
        "\n",
        "plt.show()"
      ],
      "execution_count": 0,
      "outputs": [
        {
          "output_type": "display_data",
          "data": {
            "image/png": "[encoded data removed]",
            "text/plain": [
              "<Figure size 432x288 with 1 Axes>"
            ]
          },
          "metadata": {
            "tags": [],
            "needs_background": "light"
          }
        },
        {
          "output_type": "display_data",
          "data": {
            "image/png": "[encoded data removed]",
            "text/plain": [
              "<Figure size 432x288 with 1 Axes>"
            ]
          },
          "metadata": {
            "tags": [],
            "needs_background": "light"
          }
        },
        {
          "output_type": "display_data",
          "data": {
            "image/png": "[encoded data removed]",
            "text/plain": [
              "<Figure size 432x288 with 1 Axes>"
            ]
          },
          "metadata": {
            "tags": [],
            "needs_background": "light"
          }
        },
        {
          "output_type": "display_data",
          "data": {
            "image/png": "[encoded data removed]",
            "text/plain": [
              "<Figure size 432x288 with 1 Axes>"
            ]
          },
          "metadata": {
            "tags": [],
            "needs_background": "light"
          }
        }
      ]
    },
    {
      "cell_type": "code",
      "metadata": {
        "id": "zNnGfdz3_7H3",
        "colab_type": "code",
        "outputId": "e96fe66d-82fc-4752-ea7b-8ebcbb2f36ae",
        "colab": {
          "base_uri": "https://localhost:8080/",
          "height": 34
        }
      },
      "source": [
        "# Your code here (train_generator)\n",
        "train_generator=train_dataaug.flow_from_directory(\n",
        "    train_dir, target_size=(64,64),batch_size=20,class_mode='categorical'\n",
        ")\n"
      ],
      "execution_count": 38,
      "outputs": [
        {
          "output_type": "stream",
          "text": [
            "Found 2400 images belonging to 7 classes.\n"
          ],
          "name": "stdout"
        }
      ]
    },
    {
      "cell_type": "code",
      "metadata": {
        "id": "THEfdI_X-a1-",
        "colab_type": "code",
        "colab": {}
      },
      "source": [
        "# Your code her (Define model and how to compile model)\n",
        "model = tf.keras.models.Sequential([\n",
        "  tf.keras.layers.Conv2D(32, (3, 3), activation='relu', input_shape = (64, 64, 3)),\n",
        "  tf.keras.layers.MaxPooling2D((2, 2)),\n",
        "\n",
        "  tf.keras.layers.Conv2D(64, (3, 3), activation='relu'),\n",
        "  tf.keras.layers.MaxPooling2D((2, 2)),\n",
        "\n",
        "  tf.keras.layers.Conv2D(64, (3, 3), activation='relu'),\n",
        "  tf.keras.layers.MaxPooling2D((2, 2)),\n",
        "  tf.keras.layers.Dropout(0.5),\n",
        "\n",
        "  tf.keras.layers.Flatten(),\n",
        "\n",
        "  tf.keras.layers.Dense(128, activation='relu'),\n",
        "\n",
        "  tf.keras.layers.Dense(7, activation = 'softmax')\n",
        "])\n",
        "model.compile(loss='categorical_crossentropy',optimizer=tf.keras.optimizers.RMSprop(),\n",
        "              metrics=['accuracy'])"
      ],
      "execution_count": 0,
      "outputs": []
    },
    {
      "cell_type": "code",
      "metadata": {
        "id": "P6qxgwKlYlEZ",
        "colab_type": "code",
        "colab": {
          "base_uri": "https://localhost:8080/",
          "height": 1000
        },
        "outputId": "964bda15-7ab6-40c3-db47-de86aa469138"
      },
      "source": [
        "# Your code here (Train network)\n",
        "history2=model.fit(train_generator,steps_per_epoch = num_training_samples,\n",
        "                    epochs = 30,\n",
        "                    validation_data = validation_generator,\n",
        "                    validation_steps = num_validation_samples)"
      ],
      "execution_count": 39,
      "outputs": [
        {
          "output_type": "stream",
          "text": [
            "Epoch 1/30\n",
            "120/120 [==============================] - 68s 570ms/step - loss: 1.9284 - accuracy: 0.1642 - val_loss: 1.9166 - val_accuracy: 0.1630\n",
            "Epoch 2/30\n",
            "120/120 [==============================] - 67s 557ms/step - loss: 1.9230 - accuracy: 0.1771 - val_loss: 1.9271 - val_accuracy: 0.1866\n",
            "Epoch 3/30\n",
            "120/120 [==============================] - 66s 554ms/step - loss: 1.9233 - accuracy: 0.1892 - val_loss: 1.9119 - val_accuracy: 0.1916\n",
            "Epoch 4/30\n",
            "120/120 [==============================] - 67s 560ms/step - loss: 1.9165 - accuracy: 0.2004 - val_loss: 1.9155 - val_accuracy: 0.1866\n",
            "Epoch 5/30\n",
            "120/120 [==============================] - 67s 560ms/step - loss: 1.9098 - accuracy: 0.2146 - val_loss: 1.9066 - val_accuracy: 0.2050\n",
            "Epoch 6/30\n",
            "120/120 [==============================] - 67s 562ms/step - loss: 1.9030 - accuracy: 0.2271 - val_loss: 1.8968 - val_accuracy: 0.2218\n",
            "Epoch 7/30\n",
            "120/120 [==============================] - 67s 557ms/step - loss: 1.8949 - accuracy: 0.2163 - val_loss: 1.9029 - val_accuracy: 0.2235\n",
            "Epoch 8/30\n",
            "120/120 [==============================] - 67s 554ms/step - loss: 1.8828 - accuracy: 0.2304 - val_loss: 1.9302 - val_accuracy: 0.1983\n",
            "Epoch 9/30\n",
            "120/120 [==============================] - 68s 569ms/step - loss: 1.8880 - accuracy: 0.2379 - val_loss: 1.8999 - val_accuracy: 0.2000\n",
            "Epoch 10/30\n",
            "120/120 [==============================] - 67s 557ms/step - loss: 1.8794 - accuracy: 0.2404 - val_loss: 2.0075 - val_accuracy: 0.2134\n",
            "Epoch 11/30\n",
            "120/120 [==============================] - 66s 552ms/step - loss: 1.8730 - accuracy: 0.2317 - val_loss: 1.9012 - val_accuracy: 0.2000\n",
            "Epoch 12/30\n",
            "120/120 [==============================] - 67s 556ms/step - loss: 1.8595 - accuracy: 0.2533 - val_loss: 1.9334 - val_accuracy: 0.2034\n",
            "Epoch 13/30\n",
            "120/120 [==============================] - 67s 556ms/step - loss: 1.8611 - accuracy: 0.2438 - val_loss: 1.9165 - val_accuracy: 0.1782\n",
            "Epoch 14/30\n",
            "120/120 [==============================] - 67s 556ms/step - loss: 1.8487 - accuracy: 0.2554 - val_loss: 1.8957 - val_accuracy: 0.2235\n",
            "Epoch 15/30\n",
            "120/120 [==============================] - 67s 557ms/step - loss: 1.8514 - accuracy: 0.2512 - val_loss: 1.8896 - val_accuracy: 0.2218\n",
            "Epoch 16/30\n",
            "120/120 [==============================] - 66s 553ms/step - loss: 1.8463 - accuracy: 0.2654 - val_loss: 1.9054 - val_accuracy: 0.2218\n",
            "Epoch 17/30\n",
            "120/120 [==============================] - 66s 553ms/step - loss: 1.8448 - accuracy: 0.2525 - val_loss: 1.9110 - val_accuracy: 0.2319\n",
            "Epoch 18/30\n",
            "120/120 [==============================] - 67s 561ms/step - loss: 1.8453 - accuracy: 0.2592 - val_loss: 1.9723 - val_accuracy: 0.2134\n",
            "Epoch 19/30\n",
            "120/120 [==============================] - 66s 550ms/step - loss: 1.8421 - accuracy: 0.2575 - val_loss: 2.0570 - val_accuracy: 0.1933\n",
            "Epoch 20/30\n",
            "120/120 [==============================] - 66s 554ms/step - loss: 1.8440 - accuracy: 0.2550 - val_loss: 1.9251 - val_accuracy: 0.2403\n",
            "Epoch 21/30\n",
            "120/120 [==============================] - 66s 553ms/step - loss: 1.8425 - accuracy: 0.2500 - val_loss: 1.9004 - val_accuracy: 0.2101\n",
            "Epoch 22/30\n",
            "120/120 [==============================] - 66s 553ms/step - loss: 1.8384 - accuracy: 0.2604 - val_loss: 1.8974 - val_accuracy: 0.2269\n",
            "Epoch 23/30\n",
            "120/120 [==============================] - 67s 557ms/step - loss: 1.8333 - accuracy: 0.2658 - val_loss: 1.8905 - val_accuracy: 0.2118\n",
            "Epoch 24/30\n",
            "120/120 [==============================] - 67s 556ms/step - loss: 1.8353 - accuracy: 0.2675 - val_loss: 1.9046 - val_accuracy: 0.2151\n",
            "Epoch 25/30\n",
            "120/120 [==============================] - 67s 559ms/step - loss: 1.8346 - accuracy: 0.2596 - val_loss: 1.9457 - val_accuracy: 0.2067\n",
            "Epoch 26/30\n",
            "120/120 [==============================] - 67s 557ms/step - loss: 1.8322 - accuracy: 0.2667 - val_loss: 1.9395 - val_accuracy: 0.2151\n",
            "Epoch 27/30\n",
            "120/120 [==============================] - 67s 558ms/step - loss: 1.8291 - accuracy: 0.2679 - val_loss: 1.9337 - val_accuracy: 0.1916\n",
            "Epoch 28/30\n",
            "120/120 [==============================] - 69s 572ms/step - loss: 1.8211 - accuracy: 0.2692 - val_loss: 1.8985 - val_accuracy: 0.2403\n",
            "Epoch 29/30\n",
            "120/120 [==============================] - 67s 558ms/step - loss: 1.8236 - accuracy: 0.2675 - val_loss: 1.8995 - val_accuracy: 0.2034\n",
            "Epoch 30/30\n",
            "120/120 [==============================] - 67s 560ms/step - loss: 1.8177 - accuracy: 0.2817 - val_loss: 1.9350 - val_accuracy: 0.2202\n"
          ],
          "name": "stdout"
        }
      ]
    },
    {
      "cell_type": "code",
      "metadata": {
        "id": "rwjLLEm3DgJF",
        "colab_type": "code",
        "colab": {}
      },
      "source": [
        "!pip install -U -q PyDrive\n",
        "from pydrive.auth import GoogleAuth\n",
        "from pydrive.drive import GoogleDrive \n",
        "from google.colab import auth \n",
        "from oauth2client.client import GoogleCredentials\n",
        "\n",
        "auth.authenticate_user()\n",
        "gauth = GoogleAuth()\n",
        "gauth.credentials = GoogleCredentials.get_application_default()\n",
        "drive = GoogleDrive(gauth)"
      ],
      "execution_count": 0,
      "outputs": []
    },
    {
      "cell_type": "code",
      "metadata": {
        "id": "OxEk0ggRjldZ",
        "colab_type": "code",
        "outputId": "5a4d33ec-da6c-4276-e091-842e11bde16f",
        "colab": {
          "base_uri": "https://localhost:8080/",
          "height": 34
        }
      },
      "source": [
        "# Save your model\n",
        "model.save('chest_2.h5')\n",
        "model_file = drive.CreateFile({'chest_2' : 'chest_2.h5'})\n",
        "model_file.SetContentFile('chest_2.h5')\n",
        "model_file.Upload()\n",
        "drive.CreateFile({'id': model_file.get('id')})"
      ],
      "execution_count": 42,
      "outputs": [
        {
          "output_type": "execute_result",
          "data": {
            "text/plain": [
              "GoogleDriveFile({'id': '1sfqOHwCKRIjNsmrrSi27-wzvHahOVOCZ'})"
            ]
          },
          "metadata": {
            "tags": []
          },
          "execution_count": 42
        }
      ]
    },
    {
      "cell_type": "markdown",
      "metadata": {
        "id": "sHuddxVmjldc",
        "colab_type": "text"
      },
      "source": [
        "#### Plot training and validation loss\n",
        "Plot the training and validation loss. Does the model seem to be overfitting? Did data augmentation do anything to mitigate overfitting of the original model?\n"
      ]
    },
    {
      "cell_type": "code",
      "metadata": {
        "id": "Pnt73U5kYpWK",
        "colab_type": "code",
        "colab": {
          "base_uri": "https://localhost:8080/",
          "height": 296
        },
        "outputId": "820149eb-5f3a-4270-de72-632a4de9b106"
      },
      "source": [
        "# Your code here\n",
        "train_acc=history2.history['accuracy']\n",
        "train_loss=history2.history['loss']\n",
        "val_acc=history2.history['val_accuracy']\n",
        "val_loss=history2.history['val_loss']\n",
        "epochs=range(1,len(train_acc)+1)\n",
        "plt.plot(epochs,train_loss,label='Train loss')\n",
        "plt.plot(epochs, val_loss,label='Validation loss')\n",
        "plt.xlabel('Epochs')\n",
        "plt.ylabel('Loss')\n",
        "plt.legend()"
      ],
      "execution_count": 43,
      "outputs": [
        {
          "output_type": "execute_result",
          "data": {
            "text/plain": [
              "<matplotlib.legend.Legend at 0x7fd2dd67d9b0>"
            ]
          },
          "metadata": {
            "tags": []
          },
          "execution_count": 43
        },
        {
          "output_type": "display_data",
          "data": {
            "image/png": "[encoded data removed]",
            "text/plain": [
              "<Figure size 432x288 with 1 Axes>"
            ]
          },
          "metadata": {
            "tags": [],
            "needs_background": "light"
          }
        }
      ]
    },
    {
      "cell_type": "code",
      "metadata": {
        "id": "UkGB-vfOpuR0",
        "colab_type": "code",
        "colab": {
          "base_uri": "https://localhost:8080/",
          "height": 296
        },
        "outputId": "9c711480-c1e4-48f9-e8d0-3444a5e14929"
      },
      "source": [
        "plt.plot(epochs,train_acc,label='Train Accuracy')\n",
        "plt.plot(epochs, val_acc,label='Validation Accuracy')\n",
        "plt.xlabel('Epochs')\n",
        "plt.ylabel('Accuracy')\n",
        "plt.legend()"
      ],
      "execution_count": 44,
      "outputs": [
        {
          "output_type": "execute_result",
          "data": {
            "text/plain": [
              "<matplotlib.legend.Legend at 0x7fd2dd65fe80>"
            ]
          },
          "metadata": {
            "tags": []
          },
          "execution_count": 44
        },
        {
          "output_type": "display_data",
          "data": {
            "image/png": "[encoded data removed]",
            "text/plain": [
              "<Figure size 432x288 with 1 Axes>"
            ]
          },
          "metadata": {
            "tags": [],
            "needs_background": "light"
          }
        }
      ]
    },
    {
      "cell_type": "markdown",
      "metadata": {
        "id": "nQVUJOm1jldf",
        "colab_type": "text"
      },
      "source": [
        "#### Test accuracy\n",
        "Calculate and report the test set accuracy."
      ]
    },
    {
      "cell_type": "code",
      "metadata": {
        "id": "hT9zmqxjYr-I",
        "colab_type": "code",
        "colab": {
          "base_uri": "https://localhost:8080/",
          "height": 306
        },
        "outputId": "3b00309b-05bd-40fe-c605-d090f391de50"
      },
      "source": [
        "# Your code here\n",
        "model.evaluate_generator(test_generator)"
      ],
      "execution_count": 57,
      "outputs": [
        {
          "output_type": "error",
          "ename": "KeyboardInterrupt",
          "evalue": "ignored",
          "traceback": [
            "\u001b[0;31m---------------------------------------------------------------------------\u001b[0m",
            "\u001b[0;31mKeyboardInterrupt\u001b[0m                         Traceback (most recent call last)",
            "\u001b[0;32m<ipython-input-57-faa0e9406f88>\u001b[0m in \u001b[0;36m<module>\u001b[0;34m()\u001b[0m\n\u001b[0;32m----> 1\u001b[0;31m \u001b[0mmodel\u001b[0m\u001b[0;34m.\u001b[0m\u001b[0mevaluate_generator\u001b[0m\u001b[0;34m(\u001b[0m\u001b[0mtest_generator\u001b[0m\u001b[0;34m)\u001b[0m\u001b[0;34m\u001b[0m\u001b[0;34m\u001b[0m\u001b[0m\n\u001b[0m",
            "\u001b[0;32m/usr/local/lib/python3.6/dist-packages/tensorflow/python/util/deprecation.py\u001b[0m in \u001b[0;36mnew_func\u001b[0;34m(*args, **kwargs)\u001b[0m\n\u001b[1;32m    322\u001b[0m               \u001b[0;34m'in a future version'\u001b[0m \u001b[0;32mif\u001b[0m \u001b[0mdate\u001b[0m \u001b[0;32mis\u001b[0m \u001b[0;32mNone\u001b[0m \u001b[0;32melse\u001b[0m \u001b[0;34m(\u001b[0m\u001b[0;34m'after %s'\u001b[0m \u001b[0;34m%\u001b[0m \u001b[0mdate\u001b[0m\u001b[0;34m)\u001b[0m\u001b[0;34m,\u001b[0m\u001b[0;34m\u001b[0m\u001b[0;34m\u001b[0m\u001b[0m\n\u001b[1;32m    323\u001b[0m               instructions)\n\u001b[0;32m--> 324\u001b[0;31m       \u001b[0;32mreturn\u001b[0m \u001b[0mfunc\u001b[0m\u001b[0;34m(\u001b[0m\u001b[0;34m*\u001b[0m\u001b[0margs\u001b[0m\u001b[0;34m,\u001b[0m \u001b[0;34m**\u001b[0m\u001b[0mkwargs\u001b[0m\u001b[0;34m)\u001b[0m\u001b[0;34m\u001b[0m\u001b[0;34m\u001b[0m\u001b[0m\n\u001b[0m\u001b[1;32m    325\u001b[0m     return tf_decorator.make_decorator(\n\u001b[1;32m    326\u001b[0m         \u001b[0mfunc\u001b[0m\u001b[0;34m,\u001b[0m \u001b[0mnew_func\u001b[0m\u001b[0;34m,\u001b[0m \u001b[0;34m'deprecated'\u001b[0m\u001b[0;34m,\u001b[0m\u001b[0;34m\u001b[0m\u001b[0;34m\u001b[0m\u001b[0m\n",
            "\u001b[0;32m/usr/local/lib/python3.6/dist-packages/tensorflow/python/keras/engine/training.py\u001b[0m in \u001b[0;36mevaluate_generator\u001b[0;34m(self, generator, steps, callbacks, max_queue_size, workers, use_multiprocessing, verbose)\u001b[0m\n\u001b[1;32m   1508\u001b[0m         \u001b[0muse_multiprocessing\u001b[0m\u001b[0;34m=\u001b[0m\u001b[0muse_multiprocessing\u001b[0m\u001b[0;34m,\u001b[0m\u001b[0;34m\u001b[0m\u001b[0;34m\u001b[0m\u001b[0m\n\u001b[1;32m   1509\u001b[0m         \u001b[0mverbose\u001b[0m\u001b[0;34m=\u001b[0m\u001b[0mverbose\u001b[0m\u001b[0;34m,\u001b[0m\u001b[0;34m\u001b[0m\u001b[0;34m\u001b[0m\u001b[0m\n\u001b[0;32m-> 1510\u001b[0;31m         callbacks=callbacks)\n\u001b[0m\u001b[1;32m   1511\u001b[0m \u001b[0;34m\u001b[0m\u001b[0m\n\u001b[1;32m   1512\u001b[0m   @deprecation.deprecated(\n",
            "\u001b[0;32m/usr/local/lib/python3.6/dist-packages/tensorflow/python/keras/engine/training.py\u001b[0m in \u001b[0;36m_method_wrapper\u001b[0;34m(self, *args, **kwargs)\u001b[0m\n\u001b[1;32m     64\u001b[0m   \u001b[0;32mdef\u001b[0m \u001b[0m_method_wrapper\u001b[0m\u001b[0;34m(\u001b[0m\u001b[0mself\u001b[0m\u001b[0;34m,\u001b[0m \u001b[0;34m*\u001b[0m\u001b[0margs\u001b[0m\u001b[0;34m,\u001b[0m \u001b[0;34m**\u001b[0m\u001b[0mkwargs\u001b[0m\u001b[0;34m)\u001b[0m\u001b[0;34m:\u001b[0m\u001b[0;34m\u001b[0m\u001b[0;34m\u001b[0m\u001b[0m\n\u001b[1;32m     65\u001b[0m     \u001b[0;32mif\u001b[0m \u001b[0;32mnot\u001b[0m \u001b[0mself\u001b[0m\u001b[0;34m.\u001b[0m\u001b[0m_in_multi_worker_mode\u001b[0m\u001b[0;34m(\u001b[0m\u001b[0;34m)\u001b[0m\u001b[0;34m:\u001b[0m  \u001b[0;31m# pylint: disable=protected-access\u001b[0m\u001b[0;34m\u001b[0m\u001b[0;34m\u001b[0m\u001b[0m\n\u001b[0;32m---> 66\u001b[0;31m       \u001b[0;32mreturn\u001b[0m \u001b[0mmethod\u001b[0m\u001b[0;34m(\u001b[0m\u001b[0mself\u001b[0m\u001b[0;34m,\u001b[0m \u001b[0;34m*\u001b[0m\u001b[0margs\u001b[0m\u001b[0;34m,\u001b[0m \u001b[0;34m**\u001b[0m\u001b[0mkwargs\u001b[0m\u001b[0;34m)\u001b[0m\u001b[0;34m\u001b[0m\u001b[0;34m\u001b[0m\u001b[0m\n\u001b[0m\u001b[1;32m     67\u001b[0m \u001b[0;34m\u001b[0m\u001b[0m\n\u001b[1;32m     68\u001b[0m     \u001b[0;31m# Running inside `run_distribute_coordinator` already.\u001b[0m\u001b[0;34m\u001b[0m\u001b[0;34m\u001b[0m\u001b[0;34m\u001b[0m\u001b[0m\n",
            "\u001b[0;32m/usr/local/lib/python3.6/dist-packages/tensorflow/python/keras/engine/training.py\u001b[0m in \u001b[0;36mevaluate\u001b[0;34m(self, x, y, batch_size, verbose, sample_weight, steps, callbacks, max_queue_size, workers, use_multiprocessing, return_dict)\u001b[0m\n\u001b[1;32m   1082\u001b[0m                 step_num=step):\n\u001b[1;32m   1083\u001b[0m               \u001b[0mcallbacks\u001b[0m\u001b[0;34m.\u001b[0m\u001b[0mon_test_batch_begin\u001b[0m\u001b[0;34m(\u001b[0m\u001b[0mstep\u001b[0m\u001b[0;34m)\u001b[0m\u001b[0;34m\u001b[0m\u001b[0;34m\u001b[0m\u001b[0m\n\u001b[0;32m-> 1084\u001b[0;31m               \u001b[0mtmp_logs\u001b[0m \u001b[0;34m=\u001b[0m \u001b[0mtest_function\u001b[0m\u001b[0;34m(\u001b[0m\u001b[0miterator\u001b[0m\u001b[0;34m)\u001b[0m\u001b[0;34m\u001b[0m\u001b[0;34m\u001b[0m\u001b[0m\n\u001b[0m\u001b[1;32m   1085\u001b[0m               \u001b[0;31m# Catch OutOfRangeError for Datasets of unknown size.\u001b[0m\u001b[0;34m\u001b[0m\u001b[0;34m\u001b[0m\u001b[0;34m\u001b[0m\u001b[0m\n\u001b[1;32m   1086\u001b[0m               \u001b[0;31m# This blocks until the batch has finished executing.\u001b[0m\u001b[0;34m\u001b[0m\u001b[0;34m\u001b[0m\u001b[0;34m\u001b[0m\u001b[0m\n",
            "\u001b[0;32m/usr/local/lib/python3.6/dist-packages/tensorflow/python/eager/def_function.py\u001b[0m in \u001b[0;36m__call__\u001b[0;34m(self, *args, **kwds)\u001b[0m\n\u001b[1;32m    578\u001b[0m         \u001b[0mxla_context\u001b[0m\u001b[0;34m.\u001b[0m\u001b[0mExit\u001b[0m\u001b[0;34m(\u001b[0m\u001b[0;34m)\u001b[0m\u001b[0;34m\u001b[0m\u001b[0;34m\u001b[0m\u001b[0m\n\u001b[1;32m    579\u001b[0m     \u001b[0;32melse\u001b[0m\u001b[0;34m:\u001b[0m\u001b[0;34m\u001b[0m\u001b[0;34m\u001b[0m\u001b[0m\n\u001b[0;32m--> 580\u001b[0;31m       \u001b[0mresult\u001b[0m \u001b[0;34m=\u001b[0m \u001b[0mself\u001b[0m\u001b[0;34m.\u001b[0m\u001b[0m_call\u001b[0m\u001b[0;34m(\u001b[0m\u001b[0;34m*\u001b[0m\u001b[0margs\u001b[0m\u001b[0;34m,\u001b[0m \u001b[0;34m**\u001b[0m\u001b[0mkwds\u001b[0m\u001b[0;34m)\u001b[0m\u001b[0;34m\u001b[0m\u001b[0;34m\u001b[0m\u001b[0m\n\u001b[0m\u001b[1;32m    581\u001b[0m \u001b[0;34m\u001b[0m\u001b[0m\n\u001b[1;32m    582\u001b[0m     \u001b[0;32mif\u001b[0m \u001b[0mtracing_count\u001b[0m \u001b[0;34m==\u001b[0m \u001b[0mself\u001b[0m\u001b[0;34m.\u001b[0m\u001b[0m_get_tracing_count\u001b[0m\u001b[0;34m(\u001b[0m\u001b[0;34m)\u001b[0m\u001b[0;34m:\u001b[0m\u001b[0;34m\u001b[0m\u001b[0;34m\u001b[0m\u001b[0m\n",
            "\u001b[0;32m/usr/local/lib/python3.6/dist-packages/tensorflow/python/eager/def_function.py\u001b[0m in \u001b[0;36m_call\u001b[0;34m(self, *args, **kwds)\u001b[0m\n\u001b[1;32m    616\u001b[0m       \u001b[0;31m# In this case we have not created variables on the first call. So we can\u001b[0m\u001b[0;34m\u001b[0m\u001b[0;34m\u001b[0m\u001b[0;34m\u001b[0m\u001b[0m\n\u001b[1;32m    617\u001b[0m       \u001b[0;31m# run the first trace but we should fail if variables are created.\u001b[0m\u001b[0;34m\u001b[0m\u001b[0;34m\u001b[0m\u001b[0;34m\u001b[0m\u001b[0m\n\u001b[0;32m--> 618\u001b[0;31m       \u001b[0mresults\u001b[0m \u001b[0;34m=\u001b[0m \u001b[0mself\u001b[0m\u001b[0;34m.\u001b[0m\u001b[0m_stateful_fn\u001b[0m\u001b[0;34m(\u001b[0m\u001b[0;34m*\u001b[0m\u001b[0margs\u001b[0m\u001b[0;34m,\u001b[0m \u001b[0;34m**\u001b[0m\u001b[0mkwds\u001b[0m\u001b[0;34m)\u001b[0m\u001b[0;34m\u001b[0m\u001b[0;34m\u001b[0m\u001b[0m\n\u001b[0m\u001b[1;32m    619\u001b[0m       \u001b[0;32mif\u001b[0m \u001b[0mself\u001b[0m\u001b[0;34m.\u001b[0m\u001b[0m_created_variables\u001b[0m\u001b[0;34m:\u001b[0m\u001b[0;34m\u001b[0m\u001b[0;34m\u001b[0m\u001b[0m\n\u001b[1;32m    620\u001b[0m         raise ValueError(\"Creating variables on a non-first call to a function\"\n",
            "\u001b[0;32m/usr/local/lib/python3.6/dist-packages/tensorflow/python/eager/function.py\u001b[0m in \u001b[0;36m__call__\u001b[0;34m(self, *args, **kwargs)\u001b[0m\n\u001b[1;32m   2418\u001b[0m     \u001b[0;32mwith\u001b[0m \u001b[0mself\u001b[0m\u001b[0;34m.\u001b[0m\u001b[0m_lock\u001b[0m\u001b[0;34m:\u001b[0m\u001b[0;34m\u001b[0m\u001b[0;34m\u001b[0m\u001b[0m\n\u001b[1;32m   2419\u001b[0m       \u001b[0mgraph_function\u001b[0m\u001b[0;34m,\u001b[0m \u001b[0margs\u001b[0m\u001b[0;34m,\u001b[0m \u001b[0mkwargs\u001b[0m \u001b[0;34m=\u001b[0m \u001b[0mself\u001b[0m\u001b[0;34m.\u001b[0m\u001b[0m_maybe_define_function\u001b[0m\u001b[0;34m(\u001b[0m\u001b[0margs\u001b[0m\u001b[0;34m,\u001b[0m \u001b[0mkwargs\u001b[0m\u001b[0;34m)\u001b[0m\u001b[0;34m\u001b[0m\u001b[0;34m\u001b[0m\u001b[0m\n\u001b[0;32m-> 2420\u001b[0;31m     \u001b[0;32mreturn\u001b[0m \u001b[0mgraph_function\u001b[0m\u001b[0;34m.\u001b[0m\u001b[0m_filtered_call\u001b[0m\u001b[0;34m(\u001b[0m\u001b[0margs\u001b[0m\u001b[0;34m,\u001b[0m \u001b[0mkwargs\u001b[0m\u001b[0;34m)\u001b[0m  \u001b[0;31m# pylint: disable=protected-access\u001b[0m\u001b[0;34m\u001b[0m\u001b[0;34m\u001b[0m\u001b[0m\n\u001b[0m\u001b[1;32m   2421\u001b[0m \u001b[0;34m\u001b[0m\u001b[0m\n\u001b[1;32m   2422\u001b[0m   \u001b[0;34m@\u001b[0m\u001b[0mproperty\u001b[0m\u001b[0;34m\u001b[0m\u001b[0;34m\u001b[0m\u001b[0m\n",
            "\u001b[0;32m/usr/local/lib/python3.6/dist-packages/tensorflow/python/eager/function.py\u001b[0m in \u001b[0;36m_filtered_call\u001b[0;34m(self, args, kwargs)\u001b[0m\n\u001b[1;32m   1663\u001b[0m          if isinstance(t, (ops.Tensor,\n\u001b[1;32m   1664\u001b[0m                            resource_variable_ops.BaseResourceVariable))),\n\u001b[0;32m-> 1665\u001b[0;31m         self.captured_inputs)\n\u001b[0m\u001b[1;32m   1666\u001b[0m \u001b[0;34m\u001b[0m\u001b[0m\n\u001b[1;32m   1667\u001b[0m   \u001b[0;32mdef\u001b[0m \u001b[0m_call_flat\u001b[0m\u001b[0;34m(\u001b[0m\u001b[0mself\u001b[0m\u001b[0;34m,\u001b[0m \u001b[0margs\u001b[0m\u001b[0;34m,\u001b[0m \u001b[0mcaptured_inputs\u001b[0m\u001b[0;34m,\u001b[0m \u001b[0mcancellation_manager\u001b[0m\u001b[0;34m=\u001b[0m\u001b[0;32mNone\u001b[0m\u001b[0;34m)\u001b[0m\u001b[0;34m:\u001b[0m\u001b[0;34m\u001b[0m\u001b[0;34m\u001b[0m\u001b[0m\n",
            "\u001b[0;32m/usr/local/lib/python3.6/dist-packages/tensorflow/python/eager/function.py\u001b[0m in \u001b[0;36m_call_flat\u001b[0;34m(self, args, captured_inputs, cancellation_manager)\u001b[0m\n\u001b[1;32m   1744\u001b[0m       \u001b[0;31m# No tape is watching; skip to running the function.\u001b[0m\u001b[0;34m\u001b[0m\u001b[0;34m\u001b[0m\u001b[0;34m\u001b[0m\u001b[0m\n\u001b[1;32m   1745\u001b[0m       return self._build_call_outputs(self._inference_function.call(\n\u001b[0;32m-> 1746\u001b[0;31m           ctx, args, cancellation_manager=cancellation_manager))\n\u001b[0m\u001b[1;32m   1747\u001b[0m     forward_backward = self._select_forward_and_backward_functions(\n\u001b[1;32m   1748\u001b[0m         \u001b[0margs\u001b[0m\u001b[0;34m,\u001b[0m\u001b[0;34m\u001b[0m\u001b[0;34m\u001b[0m\u001b[0m\n",
            "\u001b[0;32m/usr/local/lib/python3.6/dist-packages/tensorflow/python/eager/function.py\u001b[0m in \u001b[0;36mcall\u001b[0;34m(self, ctx, args, cancellation_manager)\u001b[0m\n\u001b[1;32m    596\u001b[0m               \u001b[0minputs\u001b[0m\u001b[0;34m=\u001b[0m\u001b[0margs\u001b[0m\u001b[0;34m,\u001b[0m\u001b[0;34m\u001b[0m\u001b[0;34m\u001b[0m\u001b[0m\n\u001b[1;32m    597\u001b[0m               \u001b[0mattrs\u001b[0m\u001b[0;34m=\u001b[0m\u001b[0mattrs\u001b[0m\u001b[0;34m,\u001b[0m\u001b[0;34m\u001b[0m\u001b[0;34m\u001b[0m\u001b[0m\n\u001b[0;32m--> 598\u001b[0;31m               ctx=ctx)\n\u001b[0m\u001b[1;32m    599\u001b[0m         \u001b[0;32melse\u001b[0m\u001b[0;34m:\u001b[0m\u001b[0;34m\u001b[0m\u001b[0;34m\u001b[0m\u001b[0m\n\u001b[1;32m    600\u001b[0m           outputs = execute.execute_with_cancellation(\n",
            "\u001b[0;32m/usr/local/lib/python3.6/dist-packages/tensorflow/python/eager/execute.py\u001b[0m in \u001b[0;36mquick_execute\u001b[0;34m(op_name, num_outputs, inputs, attrs, ctx, name)\u001b[0m\n\u001b[1;32m     58\u001b[0m     \u001b[0mctx\u001b[0m\u001b[0;34m.\u001b[0m\u001b[0mensure_initialized\u001b[0m\u001b[0;34m(\u001b[0m\u001b[0;34m)\u001b[0m\u001b[0;34m\u001b[0m\u001b[0;34m\u001b[0m\u001b[0m\n\u001b[1;32m     59\u001b[0m     tensors = pywrap_tfe.TFE_Py_Execute(ctx._handle, device_name, op_name,\n\u001b[0;32m---> 60\u001b[0;31m                                         inputs, attrs, num_outputs)\n\u001b[0m\u001b[1;32m     61\u001b[0m   \u001b[0;32mexcept\u001b[0m \u001b[0mcore\u001b[0m\u001b[0;34m.\u001b[0m\u001b[0m_NotOkStatusException\u001b[0m \u001b[0;32mas\u001b[0m \u001b[0me\u001b[0m\u001b[0;34m:\u001b[0m\u001b[0;34m\u001b[0m\u001b[0;34m\u001b[0m\u001b[0m\n\u001b[1;32m     62\u001b[0m     \u001b[0;32mif\u001b[0m \u001b[0mname\u001b[0m \u001b[0;32mis\u001b[0m \u001b[0;32mnot\u001b[0m \u001b[0;32mNone\u001b[0m\u001b[0;34m:\u001b[0m\u001b[0;34m\u001b[0m\u001b[0;34m\u001b[0m\u001b[0m\n",
            "\u001b[0;31mKeyboardInterrupt\u001b[0m: "
          ]
        }
      ]
    },
    {
      "cell_type": "markdown",
      "metadata": {
        "id": "04LkiOSijldl",
        "colab_type": "text"
      },
      "source": [
        "### C. Using a pretrained CNN without data augmentation\n",
        "\n",
        "Use one of the pre-trained models in Keras that has been trained using the Imagenet data set as a convolutional base. Extract features by running your training set through the base. "
      ]
    },
    {
      "cell_type": "code",
      "metadata": {
        "id": "D7njDkA2YuJU",
        "colab_type": "code",
        "colab": {
          "base_uri": "https://localhost:8080/",
          "height": 51
        },
        "outputId": "a47e9cc1-fd78-42cf-9fb0-e457a2229939"
      },
      "source": [
        "# Your code here\n",
        "conv_base = tf.keras.applications.VGG16(weights='imagenet',\n",
        "                                        include_top=False,\n",
        "                                        input_shape=(64, 64, 3))\n"
      ],
      "execution_count": 46,
      "outputs": [
        {
          "output_type": "stream",
          "text": [
            "Downloading data from https://storage.googleapis.com/tensorflow/keras-applications/vgg16/vgg16_weights_tf_dim_ordering_tf_kernels_notop.h5\n",
            "58892288/58889256 [==============================] - 0s 0us/step\n"
          ],
          "name": "stdout"
        }
      ]
    },
    {
      "cell_type": "code",
      "metadata": {
        "id": "HB6wuu4MsmKQ",
        "colab_type": "code",
        "colab": {
          "base_uri": "https://localhost:8080/",
          "height": 68
        },
        "outputId": "a838b0c5-ca67-44a3-a3f8-479f541b845b"
      },
      "source": [
        "datagen = ImageDataGenerator(rescale=1./255)\n",
        "batch_size = 20\n",
        "\n",
        "def extract_features(directory, sample_count):\n",
        "    features = np.zeros(shape=(sample_count, 2, 2, 512))\n",
        "    labels = np.zeros(shape=(sample_count))\n",
        "    generator = datagen.flow_from_directory(\n",
        "        directory,\n",
        "        target_size=(64, 64),\n",
        "        batch_size=batch_size,\n",
        "        class_mode='binary')\n",
        "    i = 0\n",
        "    for inputs_batch, labels_batch in generator:\n",
        "        features_batch = conv_base.predict(inputs_batch)\n",
        "        features[i * batch_size : (i + 1) * batch_size] = features_batch\n",
        "        labels[i * batch_size : (i + 1) * batch_size] = labels_batch\n",
        "        i += 1\n",
        "        if i * batch_size >= sample_count:\n",
        "            # Note that since generators yield data indefinitely in a loop,\n",
        "            # we must `break` after every image has been seen once.\n",
        "            break\n",
        "    return features, labels\n",
        "\n",
        "train_features, train_labels = extract_features(train_dir, 2400)\n",
        "validation_features, validation_labels = extract_features(validation_dir, 595)\n",
        "test_features, test_labels = extract_features(test_dir, 595)"
      ],
      "execution_count": 48,
      "outputs": [
        {
          "output_type": "stream",
          "text": [
            "Found 2400 images belonging to 7 classes.\n",
            "Found 595 images belonging to 7 classes.\n",
            "Found 595 images belonging to 7 classes.\n"
          ],
          "name": "stdout"
        }
      ]
    },
    {
      "cell_type": "markdown",
      "metadata": {
        "id": "01wN9SAYjldo",
        "colab_type": "text"
      },
      "source": [
        "Take this output and train a classifier. You may use the classifier from previous parts of this question."
      ]
    },
    {
      "cell_type": "code",
      "metadata": {
        "id": "3NVdpvmEY17z",
        "colab_type": "code",
        "colab": {}
      },
      "source": [
        "# Your code here\n",
        "train_features = np.reshape(train_features, (2400, 2 * 2 * 512))\n",
        "validation_features = np.reshape(validation_features, (595, 2 * 2 * 512))\n",
        "test_features = np.reshape(test_features, (595, 2 * 2 * 512))"
      ],
      "execution_count": 0,
      "outputs": []
    },
    {
      "cell_type": "code",
      "metadata": {
        "id": "0a9YJXn6teat",
        "colab_type": "code",
        "colab": {
          "base_uri": "https://localhost:8080/",
          "height": 1000
        },
        "outputId": "75414514-0506-472e-9cab-6b8d5953a775"
      },
      "source": [
        "modelpre = tf.keras.models.Sequential([\n",
        "  tf.keras.layers.Dense(256, activation='relu', input_dim=2 * 2 * 512),\n",
        "  tf.keras.layers.Dropout(0.5),\n",
        "  tf.keras.layers.Dense(1, activation='sigmoid')\n",
        "])\n",
        "\n",
        "modelpre.compile(optimizer=tf.keras.optimizers.RMSprop(lr=2e-5),\n",
        "              loss='binary_crossentropy',\n",
        "              metrics=['accuracy'])\n",
        "\n",
        "history3 = modelpre.fit(train_features, train_labels,\n",
        "                    epochs=30,\n",
        "                    batch_size=20,\n",
        "                    validation_data=(validation_features, validation_labels))"
      ],
      "execution_count": 50,
      "outputs": [
        {
          "output_type": "stream",
          "text": [
            "Epoch 1/30\n",
            "120/120 [==============================] - 1s 7ms/step - loss: -3.8096 - accuracy: 0.1654 - val_loss: -9.0491 - val_accuracy: 0.1681\n",
            "Epoch 2/30\n",
            "120/120 [==============================] - 1s 7ms/step - loss: -13.7258 - accuracy: 0.1667 - val_loss: -18.5094 - val_accuracy: 0.1681\n",
            "Epoch 3/30\n",
            "120/120 [==============================] - 1s 6ms/step - loss: -23.0419 - accuracy: 0.1667 - val_loss: -27.8649 - val_accuracy: 0.1681\n",
            "Epoch 4/30\n",
            "120/120 [==============================] - 1s 7ms/step - loss: -32.6433 - accuracy: 0.1667 - val_loss: -37.7664 - val_accuracy: 0.1681\n",
            "Epoch 5/30\n",
            "120/120 [==============================] - 1s 7ms/step - loss: -42.7762 - accuracy: 0.1667 - val_loss: -48.3354 - val_accuracy: 0.1681\n",
            "Epoch 6/30\n",
            "120/120 [==============================] - 1s 7ms/step - loss: -53.5301 - accuracy: 0.1667 - val_loss: -59.3024 - val_accuracy: 0.1681\n",
            "Epoch 7/30\n",
            "120/120 [==============================] - 1s 6ms/step - loss: -65.0174 - accuracy: 0.1667 - val_loss: -70.8921 - val_accuracy: 0.1681\n",
            "Epoch 8/30\n",
            "120/120 [==============================] - 1s 6ms/step - loss: -77.6307 - accuracy: 0.1667 - val_loss: -83.2912 - val_accuracy: 0.1681\n",
            "Epoch 9/30\n",
            "120/120 [==============================] - 1s 7ms/step - loss: -89.5989 - accuracy: 0.1667 - val_loss: -96.0398 - val_accuracy: 0.1681\n",
            "Epoch 10/30\n",
            "120/120 [==============================] - 1s 6ms/step - loss: -101.7362 - accuracy: 0.1667 - val_loss: -109.2955 - val_accuracy: 0.1681\n",
            "Epoch 11/30\n",
            "120/120 [==============================] - 1s 6ms/step - loss: -115.9909 - accuracy: 0.1667 - val_loss: -123.4066 - val_accuracy: 0.1681\n",
            "Epoch 12/30\n",
            "120/120 [==============================] - 1s 7ms/step - loss: -129.9793 - accuracy: 0.1667 - val_loss: -137.9494 - val_accuracy: 0.1681\n",
            "Epoch 13/30\n",
            "120/120 [==============================] - 1s 7ms/step - loss: -145.1480 - accuracy: 0.1667 - val_loss: -153.0009 - val_accuracy: 0.1681\n",
            "Epoch 14/30\n",
            "120/120 [==============================] - 1s 7ms/step - loss: -160.4521 - accuracy: 0.1667 - val_loss: -168.6164 - val_accuracy: 0.1681\n",
            "Epoch 15/30\n",
            "120/120 [==============================] - 1s 7ms/step - loss: -176.3035 - accuracy: 0.1667 - val_loss: -184.8835 - val_accuracy: 0.1681\n",
            "Epoch 16/30\n",
            "120/120 [==============================] - 1s 7ms/step - loss: -193.4317 - accuracy: 0.1667 - val_loss: -201.8163 - val_accuracy: 0.1681\n",
            "Epoch 17/30\n",
            "120/120 [==============================] - 1s 7ms/step - loss: -210.0653 - accuracy: 0.1667 - val_loss: -219.4277 - val_accuracy: 0.1681\n",
            "Epoch 18/30\n",
            "120/120 [==============================] - 1s 7ms/step - loss: -228.0917 - accuracy: 0.1667 - val_loss: -237.5578 - val_accuracy: 0.1681\n",
            "Epoch 19/30\n",
            "120/120 [==============================] - 1s 7ms/step - loss: -246.1785 - accuracy: 0.1667 - val_loss: -256.2466 - val_accuracy: 0.1681\n",
            "Epoch 20/30\n",
            "120/120 [==============================] - 1s 6ms/step - loss: -265.2997 - accuracy: 0.1667 - val_loss: -275.7282 - val_accuracy: 0.1681\n",
            "Epoch 21/30\n",
            "120/120 [==============================] - 1s 7ms/step - loss: -284.8072 - accuracy: 0.1667 - val_loss: -295.5430 - val_accuracy: 0.1681\n",
            "Epoch 22/30\n",
            "120/120 [==============================] - 1s 7ms/step - loss: -306.1602 - accuracy: 0.1667 - val_loss: -316.1620 - val_accuracy: 0.1681\n",
            "Epoch 23/30\n",
            "120/120 [==============================] - 1s 7ms/step - loss: -326.5469 - accuracy: 0.1667 - val_loss: -337.2780 - val_accuracy: 0.1681\n",
            "Epoch 24/30\n",
            "120/120 [==============================] - 1s 7ms/step - loss: -347.1212 - accuracy: 0.1667 - val_loss: -358.9908 - val_accuracy: 0.1681\n",
            "Epoch 25/30\n",
            "120/120 [==============================] - 1s 7ms/step - loss: -370.1828 - accuracy: 0.1667 - val_loss: -381.3534 - val_accuracy: 0.1681\n",
            "Epoch 26/30\n",
            "120/120 [==============================] - 1s 7ms/step - loss: -391.2091 - accuracy: 0.1667 - val_loss: -404.2389 - val_accuracy: 0.1681\n",
            "Epoch 27/30\n",
            "120/120 [==============================] - 1s 7ms/step - loss: -414.8085 - accuracy: 0.1667 - val_loss: -427.6661 - val_accuracy: 0.1681\n",
            "Epoch 28/30\n",
            "120/120 [==============================] - 1s 7ms/step - loss: -440.1447 - accuracy: 0.1667 - val_loss: -451.6553 - val_accuracy: 0.1681\n",
            "Epoch 29/30\n",
            "120/120 [==============================] - 1s 6ms/step - loss: -461.3317 - accuracy: 0.1667 - val_loss: -475.8395 - val_accuracy: 0.1681\n",
            "Epoch 30/30\n",
            "120/120 [==============================] - 1s 7ms/step - loss: -490.9595 - accuracy: 0.1667 - val_loss: -501.0632 - val_accuracy: 0.1681\n"
          ],
          "name": "stdout"
        }
      ]
    },
    {
      "cell_type": "markdown",
      "metadata": {
        "id": "u3vSumoUIDa0",
        "colab_type": "text"
      },
      "source": [
        "Save your model."
      ]
    },
    {
      "cell_type": "code",
      "metadata": {
        "id": "R5DXEgLvHhdn",
        "colab_type": "code",
        "colab": {}
      },
      "source": [
        "!pip install -U -q PyDrive\n",
        "from pydrive.auth import GoogleAuth\n",
        "from pydrive.drive import GoogleDrive \n",
        "from google.colab import auth \n",
        "from oauth2client.client import GoogleCredentials\n",
        "\n",
        "auth.authenticate_user()\n",
        "gauth = GoogleAuth()\n",
        "gauth.credentials = GoogleCredentials.get_application_default()\n",
        "drive = GoogleDrive(gauth)"
      ],
      "execution_count": 0,
      "outputs": []
    },
    {
      "cell_type": "code",
      "metadata": {
        "id": "pPCZ4t_Jjldr",
        "colab_type": "code",
        "outputId": "0b9b7a97-bb6e-4e1f-8d5d-ba0d86a11d86",
        "colab": {
          "base_uri": "https://localhost:8080/",
          "height": 34
        }
      },
      "source": [
        "# Save your model\n",
        "model.save('chest_3.h5')\n",
        "model_file = drive.CreateFile({'chest_3' : 'chest_3.h5'})\n",
        "model_file.SetContentFile('chest_3.h5')\n",
        "model_file.Upload()\n",
        "drive.CreateFile({'id': model_file.get('id')})"
      ],
      "execution_count": 52,
      "outputs": [
        {
          "output_type": "execute_result",
          "data": {
            "text/plain": [
              "GoogleDriveFile({'id': '1vxc-G-hiQhCxSbIjkINmJ4wyDNzUOi4e'})"
            ]
          },
          "metadata": {
            "tags": []
          },
          "execution_count": 52
        }
      ]
    },
    {
      "cell_type": "markdown",
      "metadata": {
        "id": "JD0QJkN5jldt",
        "colab_type": "text"
      },
      "source": [
        "#### Plot training and validation loss\n",
        "Plot the training and validation loss. Does the model seem to be overfitting? Does this model improve on the original model?"
      ]
    },
    {
      "cell_type": "code",
      "metadata": {
        "id": "6x7j7RuYjldu",
        "colab_type": "code",
        "colab": {
          "base_uri": "https://localhost:8080/",
          "height": 71
        },
        "outputId": "51343d1c-886a-4eee-e11c-50e41dc86f4d"
      },
      "source": [
        "# Your code here\n",
        "import seaborn as sns\n",
        "sns.set()\n",
        "\n",
        "train_acc  = history3.history['accuracy']\n",
        "train_loss = history3.history['loss']\n",
        "val_acc  = history3.history['val_accuracy']\n",
        "val_loss = history3.history['val_loss']\n",
        "\n",
        "epochs = range(1, len(train_acc) + 1)"
      ],
      "execution_count": 53,
      "outputs": [
        {
          "output_type": "stream",
          "text": [
            "/usr/local/lib/python3.6/dist-packages/statsmodels/tools/_testing.py:19: FutureWarning: pandas.util.testing is deprecated. Use the functions in the public API at pandas.testing instead.\n",
            "  import pandas.util.testing as tm\n"
          ],
          "name": "stderr"
        }
      ]
    },
    {
      "cell_type": "code",
      "metadata": {
        "id": "lXVlRshCtzFY",
        "colab_type": "code",
        "colab": {
          "base_uri": "https://localhost:8080/",
          "height": 302
        },
        "outputId": "f039b39c-ce79-40c9-a950-1b53bcc7c684"
      },
      "source": [
        "plt.plot(epochs, train_loss, label = 'Training Loss')\n",
        "plt.plot(epochs, val_loss, label = 'Validation Loss')\n",
        "plt.xlabel('Epochs')\n",
        "plt.ylabel('Loss')\n",
        "plt.legend()"
      ],
      "execution_count": 54,
      "outputs": [
        {
          "output_type": "execute_result",
          "data": {
            "text/plain": [
              "<matplotlib.legend.Legend at 0x7fd2dc83def0>"
            ]
          },
          "metadata": {
            "tags": []
          },
          "execution_count": 54
        },
        {
          "output_type": "display_data",
          "data": {
            "image/png": "[encoded data removed]",
            "text/plain": [
              "<Figure size 432x288 with 1 Axes>"
            ]
          },
          "metadata": {
            "tags": []
          }
        }
      ]
    },
    {
      "cell_type": "code",
      "metadata": {
        "id": "WJvSBymTt0kT",
        "colab_type": "code",
        "colab": {
          "base_uri": "https://localhost:8080/",
          "height": 302
        },
        "outputId": "8fb7f8ac-852a-419f-d873-d4ec820e590c"
      },
      "source": [
        "plt.plot(epochs, train_acc, label = 'Training Accuracy')\n",
        "plt.plot(epochs, val_acc, label = 'Validation Accuracy')\n",
        "plt.xlabel('Epochs')\n",
        "plt.ylabel('Accuracy')\n",
        "plt.legend()"
      ],
      "execution_count": 55,
      "outputs": [
        {
          "output_type": "execute_result",
          "data": {
            "text/plain": [
              "<matplotlib.legend.Legend at 0x7fd2dc78bdd8>"
            ]
          },
          "metadata": {
            "tags": []
          },
          "execution_count": 55
        },
        {
          "output_type": "display_data",
          "data": {
            "image/png": "[encoded data removed]",
            "text/plain": [
              "<Figure size 432x288 with 1 Axes>"
            ]
          },
          "metadata": {
            "tags": []
          }
        }
      ]
    },
    {
      "cell_type": "markdown",
      "metadata": {
        "id": "3anz7YgCjldx",
        "colab_type": "text"
      },
      "source": [
        "#### Test accuracy\n",
        "Calculate and report the test set accuracy."
      ]
    },
    {
      "cell_type": "code",
      "metadata": {
        "id": "UqGEPas7Y5ie",
        "colab_type": "code",
        "colab": {
          "base_uri": "https://localhost:8080/",
          "height": 51
        },
        "outputId": "95976da6-4252-4d83-8b1d-84000da9c8db"
      },
      "source": [
        "# Your code here\n",
        "modelpre.evaluate(test_features,test_labels)"
      ],
      "execution_count": 56,
      "outputs": [
        {
          "output_type": "stream",
          "text": [
            "19/19 [==============================] - 0s 2ms/step - loss: -496.7994 - accuracy: 0.1681\n"
          ],
          "name": "stdout"
        },
        {
          "output_type": "execute_result",
          "data": {
            "text/plain": [
              "[-496.7994079589844, 0.16806723177433014]"
            ]
          },
          "metadata": {
            "tags": []
          },
          "execution_count": 56
        }
      ]
    },
    {
      "cell_type": "markdown",
      "metadata": {
        "id": "RNjqMX1bjld0",
        "colab_type": "text"
      },
      "source": [
        "### D. Summarize results\n",
        "- Summarize the results from the 3 models you built. Which model would you choose to make future predictions? \n",
        "\n",
        "\n",
        "- List and describe at least 3 reasons for the poor performance of the models.\n",
        "\n"
      ]
    },
    {
      "cell_type": "markdown",
      "metadata": {
        "id": "YAICJpXcuPZS",
        "colab_type": "text"
      },
      "source": [
        "**Ans:**\n",
        "\n",
        "**Reasons:**\n",
        "First, the original basic model is poor because the dataset is not big, with a relatively small dataset and no data augmentation, the model is "
      ]
    }
  ]
}