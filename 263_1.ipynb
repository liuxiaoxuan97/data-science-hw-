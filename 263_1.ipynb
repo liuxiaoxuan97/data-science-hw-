{
  "nbformat": 4,
  "nbformat_minor": 0,
  "metadata": {
    "kernelspec": {
      "display_name": "Python 3",
      "language": "python",
      "name": "python3"
    },
    "language_info": {
      "codemirror_mode": {
        "name": "ipython",
        "version": 3
      },
      "file_extension": ".py",
      "mimetype": "text/x-python",
      "name": "python",
      "nbconvert_exporter": "python",
      "pygments_lexer": "ipython3",
      "version": "3.7.6"
    },
    "colab": {
      "name": "263_1.ipynb",
      "provenance": [],
      "collapsed_sections": [],
      "include_colab_link": true
    }
  },
  "cells": [
    {
      "cell_type": "markdown",
      "metadata": {
        "id": "view-in-github",
        "colab_type": "text"
      },
      "source": [
        "<a href=\"https://colab.research.google.com/github/liuxiaoxuan97/data-science-hw-/blob/master/263_1.ipynb\" target=\"_parent\"><img src=\"https://colab.research.google.com/assets/colab-badge.svg\" alt=\"Open In Colab\"/></a>"
      ]
    },
    {
      "cell_type": "code",
      "metadata": {
        "id": "G4HZuvgpDhQp",
        "colab_type": "code",
        "colab": {}
      },
      "source": [
        ""
      ],
      "execution_count": 0,
      "outputs": []
    },
    {
      "cell_type": "code",
      "metadata": {
        "id": "Tkhnw0PVDdOw",
        "colab_type": "code",
        "outputId": "e234dbc2-ea2c-4e12-af89-53270bd0eb87",
        "colab": {
          "base_uri": "https://localhost:8080/",
          "height": 296
        }
      },
      "source": [
        "##Question 1\n",
        "import numpy as np\n",
        "%matplotlib inline\n",
        "np.random.seed(263)\n",
        "N=10000\n",
        "a=lambda x: 1 if x>0.5 else -1\n",
        "miu=0\n",
        "def genran(nl):\n",
        "    x_bar=[]\n",
        "    var=[]\n",
        "    for n in nl:\n",
        "        li=np.array([i for i in map(a,np.random.uniform(0,1,n))])\n",
        "        x_bar.append(li.mean())\n",
        "        var.append(li.std())\n",
        "    return x_bar,var\n",
        "xb1,var1=genran([10,100,1000,10000])\n",
        "print(xb1)\n",
        "logn1=[np.log10(n) for n in [10,100,1000,10000]]\n",
        "import matplotlib.pyplot as plt\n",
        "plt.scatter(logn1,xb1)\n",
        "plt.axhline(y=0,ls='-')\n",
        "plt.xlabel('log10(n)')\n",
        "plt.ylabel('x_mean-miu')\n",
        "plt.show()\n"
      ],
      "execution_count": 0,
      "outputs": [
        {
          "output_type": "stream",
          "text": [
            "[0.4, -0.08, 0.022, -0.018]\n"
          ],
          "name": "stdout"
        },
        {
          "output_type": "display_data",
          "data": {
            "image/png": "[encoded data removed]",
            "text/plain": [
              "<Figure size 432x288 with 1 Axes>"
            ]
          },
          "metadata": {
            "tags": []
          }
        }
      ]
    },
    {
      "cell_type": "markdown",
      "metadata": {
        "id": "gbmzLgqpDh9W",
        "colab_type": "text"
      },
      "source": [
        "**Answer Question 1(a)**\n",
        "From the plot, I find that as n goes to infinite, the deviation $\\bar{X_n}^{(1)}-\\mu$ converges to zero. The further along I go in the sequence, that's to say, the more samples I have, the probability that the sequence of average deviates from true population mean ($\\mu$=0) becomes very small.\n",
        "\n",
        "\n"
      ]
    },
    {
      "cell_type": "markdown",
      "metadata": {
        "id": "tsflJhzoEFoh",
        "colab_type": "text"
      },
      "source": [
        "**Question 1(b)**"
      ]
    },
    {
      "cell_type": "code",
      "metadata": {
        "id": "yH2QaMrtFwEP",
        "colab_type": "code",
        "colab": {}
      },
      "source": [
        "\n",
        "def genran1(nl,e):\n",
        "    x_barn=[]\n",
        "    varn=[]\n",
        "    li1=[]\n",
        "    b=lambda x: 1 if x>e else 0\n",
        "    for i in range(N):\n",
        "        li1+=genran([nl])[0]\n",
        "    x_barn.append(np.array([i for i in map(b,li1)]).mean())\n",
        "        #xbarn.append(li1.mean())\n",
        "    varn.append(np.array([i for i in map(b,li1)]).std())\n",
        "    return x_barn,varn   \n",
        "\n",
        "x1=[]\n",
        "x2=[]\n",
        "x3=[]\n",
        "nl=[10,100,1000,10000]\n",
        "for n in nl:\n",
        "    x1.append(genran1([n],0.5)[0])\n",
        "    x2.append(genran1([n],0.1)[0])\n",
        "    x3.append(genran1([n],0.05)[0])\n"
      ],
      "execution_count": 0,
      "outputs": []
    },
    {
      "cell_type": "code",
      "metadata": {
        "id": "cSSvbmKMJ-qd",
        "colab_type": "code",
        "outputId": "95bb17f4-f11e-40d1-8043-1e21f7a8c369",
        "colab": {
          "base_uri": "https://localhost:8080/",
          "height": 803
        }
      },
      "source": [
        "dic1={'x1':0.5,'x2':0.1,'x3':0.05}\n",
        "for x in [x1,x2,x3]:\n",
        "  plt.scatter(logn1,x)\n",
        "  plt.axhline(y=0,ls='-')\n",
        "  plt.xlabel('log10(n)')\n",
        "  plt.ylabel('p')\n",
        "  #plt.title('epsilon={0}'.format(dic1['x']))\n",
        "  plt.show() "
      ],
      "execution_count": 0,
      "outputs": [
        {
          "output_type": "display_data",
          "data": {
            "image/png": "[encoded data removed]",
            "text/plain": [
              "<Figure size 432x288 with 1 Axes>"
            ]
          },
          "metadata": {
            "tags": []
          }
        },
        {
          "output_type": "display_data",
          "data": {
            "image/png": "[encoded data removed]",
            "text/plain": [
              "<Figure size 432x288 with 1 Axes>"
            ]
          },
          "metadata": {
            "tags": []
          }
        },
        {
          "output_type": "display_data",
          "data": {
            "image/png": "[encoded data removed]",
            "text/plain": [
              "<Figure size 432x288 with 1 Axes>"
            ]
          },
          "metadata": {
            "tags": []
          }
        }
      ]
    },
    {
      "cell_type": "markdown",
      "metadata": {
        "id": "jnkDr8oBIrbk",
        "colab_type": "text"
      },
      "source": [
        "**Answer：**\n",
        "From the plots we can see that, when the number of dataset of 10000, which can be viewed as a large dataset, $\\frac{1}{N}\\sum_{i=1}^{N}\\mathbb{I{{\\left|\\bar{X_n}^{(i)}-\\mu \\right|}>\\epsilon}}$ converges to zero, for all $\\epsilon=0.5,0.1,0.05$. The result is in align with the definition of Law of Large Number: The further along you go in the sequence/the more samples you have, the probability that your sequence deviates from X becomes very small. Let $X_{1},...,X_n$ be independent and identically distributed random variables with $\\mathbb{E}(X_i)=\\mu$ then $\\bar{X_n}$ converges to $\\mu$ in probability."
      ]
    },
    {
      "cell_type": "markdown",
      "metadata": {
        "id": "7-DrpTVTeMM5",
        "colab_type": "text"
      },
      "source": [
        "**Question1(c)**"
      ]
    },
    {
      "cell_type": "code",
      "metadata": {
        "id": "-JlWcA44dKMM",
        "colab_type": "code",
        "colab": {},
        "outputId": "7ddb0219-5af9-48b5-b0f3-5070efbec716"
      },
      "source": [
        "#Question 3\n",
        "N=10000\n",
        "def genran2(nl):\n",
        "    x_barn=[]\n",
        "    varn=[]\n",
        "    li1=[]\n",
        "    #b=lambda x: 1 if x>e else 0\n",
        "    for i in range(N):\n",
        "        li1.append((genran([nl])[0][0]-0)*np.sqrt(nl))\n",
        "    plt.hist(li1, bins='auto')\n",
        "    plt.title('n={0}'.format(nl))\n",
        "    plt.show()\n",
        "    #return li1\n",
        "    #return li1\n",
        "genran2(10)\n",
        "genran2(1000)\n",
        "genran2(10000)"
      ],
      "execution_count": 0,
      "outputs": [
        {
          "output_type": "display_data",
          "data": {
            "image/png": "[encoded data removed]",
            "text/plain": [
              "<Figure size 432x288 with 1 Axes>"
            ]
          },
          "metadata": {
            "tags": [],
            "needs_background": "light"
          }
        },
        {
          "output_type": "display_data",
          "data": {
            "image/png": "[encoded data removed]",
            "text/plain": [
              "<Figure size 432x288 with 1 Axes>"
            ]
          },
          "metadata": {
            "tags": [],
            "needs_background": "light"
          }
        },
        {
          "output_type": "display_data",
          "data": {
            "image/png": "[encoded data removed]",
            "text/plain": [
              "<Figure size 432x288 with 1 Axes>"
            ]
          },
          "metadata": {
            "tags": [],
            "needs_background": "light"
          }
        }
      ]
    },
    {
      "cell_type": "code",
      "metadata": {
        "id": "QsAxpGNOdKMR",
        "colab_type": "code",
        "colab": {},
        "outputId": "05c4f2f3-8870-41ad-9f1e-a22683510328"
      },
      "source": [
        "import statsmodels.api as sm\n",
        "def genran3(nl):\n",
        "    x_barn=[]\n",
        "    varn=[]\n",
        "    li1=[]\n",
        "    #b=lambda x: 1 if x>e else 0\n",
        "    for i in range(N):\n",
        "        li1.append((genran([nl])[0][0]-0)*np.sqrt(nl))\n",
        "    return li1\n",
        "sm.qqplot(np.array(genran3(10)),line='45')\n",
        "sm.qqplot(np.array(genran3(1000)),line='45')\n",
        "sm.qqplot(np.array(genran3(10000)),line='45')"
      ],
      "execution_count": 0,
      "outputs": [
        {
          "output_type": "execute_result",
          "data": {
            "image/png": "[encoded data removed]",
            "text/plain": [
              "<Figure size 432x288 with 1 Axes>"
            ]
          },
          "metadata": {
            "tags": []
          },
          "execution_count": 34
        },
        {
          "output_type": "display_data",
          "data": {
            "image/png": "[encoded data removed]",
            "text/plain": [
              "<Figure size 432x288 with 1 Axes>"
            ]
          },
          "metadata": {
            "tags": [],
            "needs_background": "light"
          }
        },
        {
          "output_type": "display_data",
          "data": {
            "image/png": "[encoded data removed]",
            "text/plain": [
              "<Figure size 432x288 with 1 Axes>"
            ]
          },
          "metadata": {
            "tags": [],
            "needs_background": "light"
          }
        },
        {
          "output_type": "display_data",
          "data": {
            "image/png": "[encoded data removed]",
            "text/plain": [
              "<Figure size 432x288 with 1 Axes>"
            ]
          },
          "metadata": {
            "tags": [],
            "needs_background": "light"
          }
        }
      ]
    },
    {
      "cell_type": "markdown",
      "metadata": {
        "id": "ErFfP7JfeTl7",
        "colab_type": "text"
      },
      "source": [
        "**Answer to Question1(c)**\n",
        "The histograms for 10 is not clear because the limit number of data points, but as n goes larger: 1000 and 10000, the histogram becomes more like normal distribution's histogram. Also, the QQ-plot when n=1000 and 10000 are well aligned with the standard line. Therefore, these plots illustrates the Central Limit Theorem. According to the definition of Central Limit Theorem--Let $X_1,...,X_n$ be independent and identically distributed random variables with finite mean $E(X_i)=\\mu$ and finite variance $Var(X_i)=\\sigma^2$. Then $\\sqrt{n}(\\bar{X_n}-\\mu)/\\sigma$ converges to normal distribution $N(0,1)$ for large n in distribution. Here, the definition of converge in distribution i: The further along you go in the sequence/the more samples you have, the better your sequence's distribution is approximated by the distribution of X. The theorem holds no matter what the actual distribution of X is. For our task in this problem, the orginal distribution is based on uniform distribution and an indicator function, so the mean and variance of the original one is finite. And the N=1000 or 10000, which is large enough, so we can say that, as the central limit theorem holds in this situation."
      ]
    },
    {
      "cell_type": "code",
      "metadata": {
        "id": "LCn0CNyVdKMU",
        "colab_type": "code",
        "colab": {
          "base_uri": "https://localhost:8080/",
          "height": 269
        },
        "outputId": "f0d885df-8d81-4d1a-d082-402235c8559f"
      },
      "source": [
        "# question 4\n",
        "import numpy as np\n",
        "%matplotlib inline\n",
        "N=10000\n",
        "Y=np.random.randn(10000)\n",
        "def genran4(nl,e):\n",
        "    x_barn=[]\n",
        "    \n",
        "    li1=[]\n",
        "    b=lambda x: 1 if x>e else 0\n",
        "    for i in range(N):\n",
        "        li1.append((genran([nl])[0][0]-0)*np.sqrt(nl)-Y[i])\n",
        "    x_barn.append(np.array([i for i in map(b,li1)]).mean())\n",
        "        #xbarn.append(li1.mean())\n",
        "    #varn.append(np.array([i for i in map(b,li1)]).std())\n",
        "    return x_barn\n",
        "li2=[]\n",
        "for n in [10,100,1000,10000]:\n",
        "    li2.append(genran4(n,0.001))\n",
        "plt.scatter(logn1,li2)\n",
        "plt.show()\n"
      ],
      "execution_count": 6,
      "outputs": [
        {
          "output_type": "display_data",
          "data": {
            "image/png": "[encoded data removed]",
            "text/plain": [
              "<Figure size 432x288 with 1 Axes>"
            ]
          },
          "metadata": {
            "tags": []
          }
        }
      ]
    },
    {
      "cell_type": "markdown",
      "metadata": {
        "id": "AiZbbY50jMVt",
        "colab_type": "text"
      },
      "source": [
        "**Answer to Question 1(d)**\n",
        "This plot illustrates the difference between convergence in probability and convergence in distribution. The probbability $\\frac{1}{N}\\sum_{i=1}^{N}\\mathbb{I({{\\left|\\sqrt{n}(\\bar{X_n}^{(i)}-\\mu )/\\sigma-Y_i\\right|}>\\epsilon}})$ doesn't converges to zero as n goes to infinity(from 10 to 10000). However, if it converges in probability, the formula should be in the form of converges to zero as n goes to infinity. So, although $\\sqrt{n}(\\bar{X_n}^{(i)}-\\mu )/\\sigma$ converges in distribution to normal distribution according to the CLT when n goes to infinity, it doesn't imply converge in distribution. Central Limit Theory(CLT) implies LLN in the sense that $\\sqrt{n}(X_n−\\mu)/σ\\to^{d}Y$ for $Y∼N(0,1)$ implies $X_n\\to^{p}\\mu$, while it does not imply that $\\sqrt{n}(X_n−μ)/σ\\to^{p}Y$. When we say converge in distribution does not imply converge in probability, it means $X_n\\to^{d}Y$ does not imply $X_n\\to^{P}Y$.To illustrate, let $Z_n=\\sqrt{n}(\\bar{X_n}^{(i)}-\\mu )/\\sigma$, since $Y_i$ are generated independently from a standard normal distribution, but there is no random variable Y to gurantee that $Z_n\\to^{p} Y$. So, $P(\\left|Z_n-Z_{n+1}\\right|>2\\epsilon)\\le P(\\left| Z_n-Y \\right| >\\epsilon)+P(\\left|Z_{n+1}-Y\\right|>\\epsilon)$. Let's prove if using contradictory case, if LLN, and the converge in probability holds, the right-hand side of the inequation should be zero as n goes to infinity, then  $P(\\left|Z_n-Z_{n+1}\\right|>2\\epsilon)\\le 0$, which is impossible, so the $Z_n$ doesn't converge to Y in probability.\n"
      ]
    },
    {
      "cell_type": "markdown",
      "metadata": {
        "id": "5ndWtnps9fZR",
        "colab_type": "text"
      },
      "source": [
        "**Question 2(a)**\n",
        "\n",
        "Ans: As shown from the histogram below, all the scores are almost around 7.57-7.58 and 10 out of 19 are about 7.5795. The distribution is not like normal distribution."
      ]
    },
    {
      "cell_type": "code",
      "metadata": {
        "id": "EvZjSlQ2_D-C",
        "colab_type": "code",
        "colab": {
          "resources": {
            "http://localhost:8080/nbextensions/google.colab/files.js": {
              "data": "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",
              "ok": true,
              "headers": [
                [
                  "content-type",
                  "application/javascript"
                ]
              ],
              "status": 200,
              "status_text": ""
            }
          },
          "base_uri": "https://localhost:8080/",
          "height": 74
        },
        "outputId": "b874cd07-f3ef-4848-aac9-cc6aaad188a7"
      },
      "source": [
        "# if using colab, we need to use the following code to load data\n",
        "#from google.colab import files\n",
        "#uploaded = files.upload()\n"
      ],
      "execution_count": 9,
      "outputs": [
        {
          "output_type": "display_data",
          "data": {
            "text/html": [
              "\n",
              "     <input type=\"file\" id=\"files-62aa650e-323d-48f0-b6cc-13700ef0b3b2\" name=\"files[]\" multiple disabled />\n",
              "     <output id=\"result-62aa650e-323d-48f0-b6cc-13700ef0b3b2\">\n",
              "      Upload widget is only available when the cell has been executed in the\n",
              "      current browser session. Please rerun this cell to enable.\n",
              "      </output>\n",
              "      <script src=\"/nbextensions/google.colab/files.js\"></script> "
            ],
            "text/plain": [
              "<IPython.core.display.HTML object>"
            ]
          },
          "metadata": {
            "tags": []
          }
        },
        {
          "output_type": "stream",
          "text": [
            "Saving ratings.dat to ratings.dat\n"
          ],
          "name": "stdout"
        }
      ]
    },
    {
      "cell_type": "code",
      "metadata": {
        "id": "9LfdRyWtCfPM",
        "colab_type": "code",
        "colab": {
          "base_uri": "https://localhost:8080/",
          "height": 204
        },
        "outputId": "4624b155-5c30-44ec-a3cb-82552f6911d9"
      },
      "source": [
        "#import io\n",
        "#data = io.BytesIO(uploaded['ratings.dat'])\n",
        "#import pandas as pd  \n",
        "#f = pd.read_csv(data,header=None)\n",
        "#f.head()"
      ],
      "execution_count": 13,
      "outputs": [
        {
          "output_type": "execute_result",
          "data": {
            "text/html": [
              "<div>\n",
              "<style scoped>\n",
              "    .dataframe tbody tr th:only-of-type {\n",
              "        vertical-align: middle;\n",
              "    }\n",
              "\n",
              "    .dataframe tbody tr th {\n",
              "        vertical-align: top;\n",
              "    }\n",
              "\n",
              "    .dataframe thead th {\n",
              "        text-align: right;\n",
              "    }\n",
              "</style>\n",
              "<table border=\"1\" class=\"dataframe\">\n",
              "  <thead>\n",
              "    <tr style=\"text-align: right;\">\n",
              "      <th></th>\n",
              "      <th>0</th>\n",
              "      <th>1</th>\n",
              "      <th>2</th>\n",
              "    </tr>\n",
              "  </thead>\n",
              "  <tbody>\n",
              "    <tr>\n",
              "      <th>0</th>\n",
              "      <td>56669</td>\n",
              "      <td>39491</td>\n",
              "      <td>6</td>\n",
              "    </tr>\n",
              "    <tr>\n",
              "      <th>1</th>\n",
              "      <td>56919</td>\n",
              "      <td>8035</td>\n",
              "      <td>10</td>\n",
              "    </tr>\n",
              "    <tr>\n",
              "      <th>2</th>\n",
              "      <td>108853</td>\n",
              "      <td>102321</td>\n",
              "      <td>10</td>\n",
              "    </tr>\n",
              "    <tr>\n",
              "      <th>3</th>\n",
              "      <td>116784</td>\n",
              "      <td>52568</td>\n",
              "      <td>2</td>\n",
              "    </tr>\n",
              "    <tr>\n",
              "      <th>4</th>\n",
              "      <td>132748</td>\n",
              "      <td>220878</td>\n",
              "      <td>10</td>\n",
              "    </tr>\n",
              "  </tbody>\n",
              "</table>\n",
              "</div>"
            ],
            "text/plain": [
              "        0       1   2\n",
              "0   56669   39491   6\n",
              "1   56919    8035  10\n",
              "2  108853  102321  10\n",
              "3  116784   52568   2\n",
              "4  132748  220878  10"
            ]
          },
          "metadata": {
            "tags": []
          },
          "execution_count": 13
        }
      ]
    },
    {
      "cell_type": "code",
      "metadata": {
        "id": "CAZG6khXdKMd",
        "colab_type": "code",
        "colab": {}
      },
      "source": [
        "import pandas as pd\n",
        "import requests\n",
        "##Question 1\n",
        "\n",
        "ratings=pd.read_csv(\"C:/Users/xiaoxuanliu/Downloads/ratings.dat\",header=None,names=['UserID','ProfileID','Rating'])\n",
        "ratings['ProfileID'].astype(int)\n",
        "ratings.head(3)\n",
        "def weightedrank(ratings,ProfileID):\n",
        "    r=ratings[ratings['ProfileID']==ProfileID]['Rating'].mean()\n",
        "    v=ratings[ratings['ProfileID']==ProfileID].shape[0]\n",
        "    m=4182 \n",
        "    c=ratings['Rating'].mean()\n",
        "    WR= (v/(v+m))*r+ (m/(v+m))*c\n",
        "    return WR\n",
        "## UserID 100\n",
        "user100=ratings[ratings['UserID']==100]\n",
        "plist=user100['ProfileID'].unique()\n",
        "dic={}\n",
        "for i in plist:\n",
        "    dic[i]=weightedrank(user100,i)\n",
        "dic\n",
        "#user100.apply(weightedrank(173852))\n"
      ],
      "execution_count": 0,
      "outputs": []
    },
    {
      "cell_type": "code",
      "metadata": {
        "id": "AxEbv8MTdKMg",
        "colab_type": "code",
        "colab": {},
        "outputId": "c1f9d058-8ed3-40a2-fc35-c001bbd303a5"
      },
      "source": [
        "import matplotlib.pyplot as plt\n",
        "plt.hist(dic.values())\n"
      ],
      "execution_count": 0,
      "outputs": [
        {
          "output_type": "execute_result",
          "data": {
            "text/plain": [
              "(array([ 3.,  0.,  0.,  0.,  1.,  2.,  0.,  3.,  0., 10.]),\n",
              " array([7.57737459, 7.57758974, 7.5778049 , 7.57802006, 7.57823521,\n",
              "        7.57845037, 7.57866553, 7.57888068, 7.57909584, 7.579311  ,\n",
              "        7.57952615]),\n",
              " <a list of 10 Patch objects>)"
            ]
          },
          "metadata": {
            "tags": []
          },
          "execution_count": 15
        },
        {
          "output_type": "display_data",
          "data": {
            "image/png": "[encoded data removed]",
            "text/plain": [
              "<Figure size 432x288 with 1 Axes>"
            ]
          },
          "metadata": {
            "tags": [],
            "needs_background": "light"
          }
        }
      ]
    },
    {
      "cell_type": "markdown",
      "metadata": {
        "id": "1MKbK-3n_4iQ",
        "colab_type": "text"
      },
      "source": [
        "**Question 2(b)**"
      ]
    },
    {
      "cell_type": "code",
      "metadata": {
        "id": "JJaPc-xVdKMi",
        "colab_type": "code",
        "colab": {},
        "outputId": "54a3384f-6a8a-4d7a-92dc-970fb2a089a3"
      },
      "source": [
        "##question 2\n",
        "user=pd.read_csv(\"C:/Users/xiaoxuanliu/Downloads/users.csv\",header=0)\n",
        "\n",
        "ny=['NEW YORK','new york','NY','ny','nY']\n",
        "ca=['CA','ca','California','Ca','calif.','CA.','Ca.','calif','CALIFORNIA','cA','ca.','Calif.','caifornia']\n",
        "mny=user[(user['State'].isin(ny)) & (user['Gender']=='M')]\n",
        "fca=user[(user['State'].isin(ca)) & (user['Gender']=='F')]\n",
        "mny=pd.merge(mny,ratings,left_on='UserID',right_on='UserID')\n",
        "fca=pd.merge(fca,ratings,left_on='UserID',right_on='UserID')\n",
        "plt.boxplot(mny['Rating'],notch=True)\n",
        "plt.title('male users coming from New York State')\n",
        "plt.show()\n",
        "plt.boxplot(fca['Rating'],notch=True)\n",
        "plt.title('female users coming from California')\n",
        "plt.show()\n"
      ],
      "execution_count": 0,
      "outputs": [
        {
          "output_type": "display_data",
          "data": {
            "image/png": "[encoded data removed]",
            "text/plain": [
              "<Figure size 432x288 with 1 Axes>"
            ]
          },
          "metadata": {
            "tags": [],
            "needs_background": "light"
          }
        },
        {
          "output_type": "display_data",
          "data": {
            "image/png": "[encoded data removed]",
            "text/plain": [
              "<Figure size 432x288 with 1 Axes>"
            ]
          },
          "metadata": {
            "tags": [],
            "needs_background": "light"
          }
        }
      ]
    },
    {
      "cell_type": "code",
      "metadata": {
        "id": "ksZOtyz_dKMl",
        "colab_type": "code",
        "colab": {},
        "outputId": "de64d842-36ec-4fe4-b6df-bd7aa586b645"
      },
      "source": [
        "user.head(4)"
      ],
      "execution_count": 0,
      "outputs": [
        {
          "output_type": "execute_result",
          "data": {
            "text/html": [
              "<div>\n",
              "<style scoped>\n",
              "    .dataframe tbody tr th:only-of-type {\n",
              "        vertical-align: middle;\n",
              "    }\n",
              "\n",
              "    .dataframe tbody tr th {\n",
              "        vertical-align: top;\n",
              "    }\n",
              "\n",
              "    .dataframe thead th {\n",
              "        text-align: right;\n",
              "    }\n",
              "</style>\n",
              "<table border=\"1\" class=\"dataframe\">\n",
              "  <thead>\n",
              "    <tr style=\"text-align: right;\">\n",
              "      <th></th>\n",
              "      <th>UserID</th>\n",
              "      <th>Gender</th>\n",
              "      <th>State</th>\n",
              "      <th>City</th>\n",
              "      <th>Employer</th>\n",
              "      <th>Occupation</th>\n",
              "      <th>Ratedate</th>\n",
              "    </tr>\n",
              "  </thead>\n",
              "  <tbody>\n",
              "    <tr>\n",
              "      <th>0</th>\n",
              "      <td>1</td>\n",
              "      <td>F</td>\n",
              "      <td>OHIO</td>\n",
              "      <td>WESTLAKE</td>\n",
              "      <td>NONE</td>\n",
              "      <td>RN/RETIRED</td>\n",
              "      <td>3/19/2008 16:59</td>\n",
              "    </tr>\n",
              "    <tr>\n",
              "      <th>1</th>\n",
              "      <td>2</td>\n",
              "      <td>F</td>\n",
              "      <td>MN</td>\n",
              "      <td>New Ulm</td>\n",
              "      <td>None</td>\n",
              "      <td>Retired</td>\n",
              "      <td>3/19/2008 16:59</td>\n",
              "    </tr>\n",
              "    <tr>\n",
              "      <th>2</th>\n",
              "      <td>3</td>\n",
              "      <td>U</td>\n",
              "      <td>Nevada</td>\n",
              "      <td>Las Vegas</td>\n",
              "      <td>Retired</td>\n",
              "      <td>None</td>\n",
              "      <td>3/19/2008 16:59</td>\n",
              "    </tr>\n",
              "    <tr>\n",
              "      <th>3</th>\n",
              "      <td>4</td>\n",
              "      <td>F</td>\n",
              "      <td>mn</td>\n",
              "      <td>mpls</td>\n",
              "      <td>coldwell banker burnet</td>\n",
              "      <td>sales</td>\n",
              "      <td>3/19/2008 16:59</td>\n",
              "    </tr>\n",
              "  </tbody>\n",
              "</table>\n",
              "</div>"
            ],
            "text/plain": [
              "   UserID Gender   State       City                Employer  Occupation  \\\n",
              "0       1      F    OHIO   WESTLAKE                    NONE  RN/RETIRED   \n",
              "1       2      F      MN    New Ulm                    None     Retired   \n",
              "2       3      U  Nevada  Las Vegas                 Retired        None   \n",
              "3       4      F      mn       mpls  coldwell banker burnet       sales   \n",
              "\n",
              "          Ratedate  \n",
              "0  3/19/2008 16:59  \n",
              "1  3/19/2008 16:59  \n",
              "2  3/19/2008 16:59  \n",
              "3  3/19/2008 16:59  "
            ]
          },
          "metadata": {
            "tags": []
          },
          "execution_count": 82
        }
      ]
    },
    {
      "cell_type": "markdown",
      "metadata": {
        "id": "8t0vsGDHAbPc",
        "colab_type": "text"
      },
      "source": [
        "**Question 2(c)**\n",
        "\n",
        "Ans: R-squared is a statistical measure of how close the data are to the fitted regression line, the percentage of the response variable variation that is explained by a linear model.The R2 is 0.6295, which means that the model explains 62.95% of the variability of the response data around its mean. coefficient of intercept is -2.12705, which means the expected mean value of Y is -2.12705 when both use_rating and profile ratings are 0. The coefficient of user_rating is 0.445989, which means keeping other variables as the same, one unit increase in average rating given by the user will lead to 0.446 unit\n",
        "increase in mean value of a user rating for a profile; coefficient of profile_rating is 0.912157, which means one unit increase in average rating given by the profile will lead to 0.912 unit increase in mean value of user rating for a profile."
      ]
    },
    {
      "cell_type": "code",
      "metadata": {
        "id": "TDxFTcoWdKMn",
        "colab_type": "code",
        "colab": {},
        "outputId": "a843cab4-bda2-4b07-af13-c178ae009189"
      },
      "source": [
        "# Question 3\n",
        "a1=ratings.groupby(['UserID'])['Rating'].agg(np.mean)\n",
        "\n",
        "a2=pd.merge(a1,ratings,on='UserID')\n",
        "a2=a2.rename(columns={\"Rating_x\": \"ur\", \"Rating_y\": \"r\"})\n",
        "#a3=pd.rename()\n",
        "b1=ratings.groupby(['ProfileID'])['Rating'].agg(np.mean)\n",
        "a3=pd.merge(a2,b1,on='ProfileID')\n",
        "#a2[a2['UserID']==1]\n",
        "import statsmodels.formula.api as sm1\n",
        "a3=a3.rename(columns={\"Rating\": \"pr\"})\n",
        "lm = sm1.ols(formula= 'r~ur+pr',data=a3).fit()\n",
        "lm.params\n",
        "#poly3_pred = deg3_lm.predict(listest[varPred])\n",
        "#average rating givenby the user and the average rating of the profile from all users as predictors"
      ],
      "execution_count": 0,
      "outputs": [
        {
          "output_type": "execute_result",
          "data": {
            "text/plain": [
              "Intercept   -2.127053\n",
              "ur           0.445989\n",
              "pr           0.912157\n",
              "dtype: float64"
            ]
          },
          "metadata": {
            "tags": []
          },
          "execution_count": 17
        }
      ]
    },
    {
      "cell_type": "code",
      "metadata": {
        "id": "qs-fm_-edKMq",
        "colab_type": "code",
        "colab": {},
        "outputId": "a294bced-df37-409d-eb45-05844f4fd488"
      },
      "source": [
        "par=lm.params\n",
        "from sklearn.metrics import r2_score\n",
        "pred=lm.predict(a3[['ur','pr']])\n",
        "r2=r2_score(a3['r'],pred)\n",
        "print('The R2 is {0}, the coefficient of intercept is {1}, the coefficient of user_rating is {2},coefficient of profile_rating is {3}.\\n'.\n",
        "     format(r2,par[0],par[1],par[2]))\n",
        "print('Analysis the result: keeping other variables as the same, one unit increase in average rating given by the user will lead to 0.446 unit\\\n",
        "increase in a user rating for a profile;  keeping other variables as the same, one unit increase in average rating given by the profile will lead to 0.912 unit\\\n",
        "increase in a user rating for a profile.')"
      ],
      "execution_count": 0,
      "outputs": [
        {
          "output_type": "stream",
          "text": [
            "The R2 is 0.6294794932241576, the coefficient of intercept is -2.1270532209555624, the coefficient of user_rating is 0.445988567828736,coefficient of profile_rating is 0.912157092437714.\n",
            "\n",
            "Analysis the result: keeping other variables as the same, one unit increase in average rating given by the user will lead to 0.446 unitincrease in a user rating for a profile;  keeping other variables as the same, one unit increase in average rating given by the profile will lead to 0.912 unitincrease in a user rating for a profile.\n"
          ],
          "name": "stdout"
        }
      ]
    },
    {
      "cell_type": "markdown",
      "metadata": {
        "id": "F74q_QJuCVGh",
        "colab_type": "text"
      },
      "source": [
        "**Question3**"
      ]
    },
    {
      "cell_type": "markdown",
      "metadata": {
        "id": "Az-Sr3cREs_g",
        "colab_type": "text"
      },
      "source": [
        "**Answer for part c**:\n",
        "\n",
        " First, we generate 100 random numbers from uniform (0,1) distribution, and user inverse function to get the random variables, then calculate the maximum likelihood estimate of alpha using each dataset and construct the 95% CI based on asymptotically normal distribution of MLE. Next, I replicate the same procedure on 10000 generated datasets and calculate CI respectively\n",
        "and then summarize the frequency of the CI’s that cover the true α which equals to the probability of generated CIs that covers the ture parameter\n",
        "of interest, the probability is 95.36%, which is larger than 95%, so the effectiveness of CI when n=100 is verified.\n"
      ]
    },
    {
      "cell_type": "code",
      "metadata": {
        "id": "NLR0hw-gdKMt",
        "colab_type": "code",
        "colab": {
          "base_uri": "https://localhost:8080/",
          "height": 34
        },
        "outputId": "a3cd2c8b-3f8e-4024-ee19-bba1eaaea39f"
      },
      "source": [
        "#Part 3\n",
        "import numpy as np\n",
        "n=100\n",
        "alpha=3\n",
        "f1=lambda x: np.sqrt(1/(1-x))\n",
        "def inCI(n):\n",
        "    ss=np.random.uniform(0,1,100)\n",
        "    x=[i for i in map(f1,ss)]\n",
        "    a_est=(n/np.sum(np.log(x)))+1\n",
        "    low=a_est-1.96*(a_est-1)/np.sqrt(n)\n",
        "    up=a_est+1.96*(a_est-1)/np.sqrt(n)\n",
        "    return (alpha>low) & (alpha<up)\n",
        "CI=[]\n",
        "for i in range(10000):\n",
        "    CI.append(inCI(100))\n",
        "np.sum(CI)/len(CI)    "
      ],
      "execution_count": 7,
      "outputs": [
        {
          "output_type": "execute_result",
          "data": {
            "text/plain": [
              "0.9536"
            ]
          },
          "metadata": {
            "tags": []
          },
          "execution_count": 7
        }
      ]
    },
    {
      "cell_type": "code",
      "metadata": {
        "id": "oGJs4MILdKMv",
        "colab_type": "code",
        "colab": {
          "base_uri": "https://localhost:8080/",
          "height": 34
        },
        "outputId": "91ab6f3c-3f5c-409e-8392-cfc447e118fe"
      },
      "source": [
        "np.sum(CI)/len(CI)    "
      ],
      "execution_count": 15,
      "outputs": [
        {
          "output_type": "execute_result",
          "data": {
            "text/plain": [
              "0.9536"
            ]
          },
          "metadata": {
            "tags": []
          },
          "execution_count": 15
        }
      ]
    },
    {
      "cell_type": "code",
      "metadata": {
        "id": "thi44ls_dKMx",
        "colab_type": "code",
        "colab": {},
        "outputId": "2164489c-177a-4a2c-9c37-78ebb920ea8c"
      },
      "source": [
        "print('Analysis for question 3 (c):\\n First, we generate 100 random numbers from uniform (0,1) distribution, and user inverse function to \\\n",
        "get the random variables, then calculate the maximum likelihood estimate of alpha using each dataset and construct the 95% CI based on\\\n",
        "asymptotically normal distribution of MLE. Next, I replicate the same procedure on 10000 generated datasets and calculate CI respectively\\\n",
        "and then summarize the frequency of the CI’s that cover the true α which equals to the probability of generated CIs that covers the ture parameter\\\n",
        "of interest, the probability is {0}, which is larger than 95%, so the effectiveness of CI when n=100 is verified'.format(np.sum(CI)/len(CI)))"
      ],
      "execution_count": 0,
      "outputs": [
        {
          "output_type": "stream",
          "text": [
            "Analysis for question 3 (c):\n",
            " First, we generate 100 random numbers from uniform (0,1) distribution, and user inverse function to get the random variables, then calculate the maximum likelihood estimate of alpha using each dataset and construct the 95% CI based onasymptotically normal distribution of MLE. Next, I replicate the same procedure on 10000 generated datasets and calculate CI respectivelyand then summarize the frequency of the CI’s that cover the true α which equals to the probability of generated CIs that covers the ture parameterof interest, the probability is 0.9515, which is larger than 95%, so the effectiveness of CI when n=100 is verified\n"
          ],
          "name": "stdout"
        }
      ]
    },
    {
      "cell_type": "code",
      "metadata": {
        "id": "Tuw3ZVwRdKM0",
        "colab_type": "code",
        "colab": {}
      },
      "source": [
        ""
      ],
      "execution_count": 0,
      "outputs": []
    }
  ]
}